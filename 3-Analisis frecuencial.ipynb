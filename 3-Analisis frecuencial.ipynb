{
 "cells": [
  {
   "cell_type": "markdown",
   "metadata": {},
   "source": [
    "# Análisis frecuencial y tiempo-frecuencia\n",
    "`\n",
    "Autores:\n",
    "Brigitte Aguilar, Sofía Poux, Elizabeth Young\n",
    "`\n",
    "\n",
    "Modificado de *PracticalMEEG2022: MNE-python hands-on tutorial*. Por Britta Westner. "
   ]
  },
  {
   "cell_type": "markdown",
   "metadata": {},
   "source": [
    "\n",
    "El objetivo de este tutorial es analizar el contenido espectral de los datos. Trabajaremos en épocas."
   ]
  },
  {
   "cell_type": "code",
   "execution_count": 1,
   "metadata": {},
   "outputs": [],
   "source": [
    "# Importamos las librerías que utilizaremos a lo largo del tutorial.\n",
    "\n",
    "%matplotlib inline\n",
    "import os\n",
    "\n",
    "import numpy as np\n",
    "import matplotlib.pyplot as plt\n",
    "\n",
    "import mne\n",
    "from mne.time_frequency import tfr_morlet"
   ]
  },
  {
   "cell_type": "markdown",
   "metadata": {},
   "source": [
    "Primero seteamos la dirección dónde se encuentran los datos, luego cargamos las épocas."
   ]
  },
  {
   "cell_type": "code",
   "execution_count": 2,
   "metadata": {},
   "outputs": [],
   "source": [
    "mne.set_log_level('error')\n",
    "\n",
    "# Cambiar el data_path a la ubicación en disco donde se encuentre el archivo. Este archivo se creó en el tutorial de pre-procesamiento (1).\n",
    "\n",
    "data_path = os.path.expanduser(\"D:/Usuarios/Downloads/Tutoriales_traducidos\")\n",
    "\n",
    "epochs_fname = os.path.join(data_path,\n",
    "    'sub-01_ses-meg_task-facerecognition_run-01_proc-sss-epo.fif')"
   ]
  },
  {
   "cell_type": "code",
   "execution_count": 3,
   "metadata": {},
   "outputs": [],
   "source": [
    "epochs = mne.read_epochs(epochs_fname, proj=True)"
   ]
  },
  {
   "cell_type": "code",
   "execution_count": null,
   "metadata": {},
   "outputs": [],
   "source": [
    "# Visualizamos la información contenida en la estructura.\n",
    "\n",
    "epochs.info"
   ]
  },
  {
   "cell_type": "markdown",
   "metadata": {},
   "source": [
    "## Análisis frecuencial\n",
    "\n",
    "Empezamos explorando el contenido frecuencial de las épocas que cargamos.\n",
    "\n",
    "Primero vamos a chequear el espectro de potencia de los diferentes canales promediando a través de las épocas.\n",
    "\n",
    "<li> El parámetro 'bandwidth' (ancho de banda) controla la resolución espectral del multitaper. Se puede incrementar la resolución eligiendo un ancho de banda más angosto a costa de un mayor tiempo de cómputo.</li>\n",
    "\n",
    "<li> Se puede utilizar también el método 'welch', que computa el espectro de potencia sin utilizar multitapers.</li>"
   ]
  },
  {
   "cell_type": "code",
   "execution_count": 5,
   "metadata": {},
   "outputs": [],
   "source": [
    "# Primero calculemos el espectro de potencia\n",
    "\n",
    "epochs_psd = epochs.compute_psd(method='multitaper', fmin=2., fmax=40., bandwidth=2.)\n",
    "\n",
    "# epochs_psd = epochs.compute_psd(method='welch', fmin=2., fmax=40., bandwidth=2.)"
   ]
  },
  {
   "cell_type": "code",
   "execution_count": null,
   "metadata": {},
   "outputs": [],
   "source": [
    "# Visualizamos la información contenida en la estructura.\n",
    "\n",
    "epochs_psd"
   ]
  },
  {
   "cell_type": "code",
   "execution_count": null,
   "metadata": {},
   "outputs": [],
   "source": [
    "%matplotlib qt\n",
    "\n",
    "epochs_psd.plot()"
   ]
  },
  {
   "cell_type": "markdown",
   "metadata": {},
   "source": [
    "<div class=\"alert alert-success\">\n",
    "    <b>EJERCICIO</b>:\n",
    "     <ul>\n",
    "    <li> ¿Cuál es el nombre del canal de EEG con la mayor potencia?</li>\n",
    "    <li> ¿Cómo lucen las topografías a 8-12 Hz (aproximadamente)?</li>\n",
    "    </ul>\n",
    "</div>"
   ]
  },
  {
   "cell_type": "markdown",
   "metadata": {},
   "source": [
    "También podemos visualizar las topografías del espectro de potencia, por ejemplo, para diferentes bandas de frecuencias. En este caso, tenemos que especificar el tipo de canal que queremos visualizar (ch_type='eeg' o 'mag')."
   ]
  },
  {
   "cell_type": "code",
   "execution_count": null,
   "metadata": {},
   "outputs": [],
   "source": [
    "%matplotlib inline\n",
    "bands = {'Theta (4-8 Hz)': (4, 8), 'Alpha (8-12 Hz)': (8, 12), \n",
    "         'Beta (12-30 Hz)': (12, 30), 'Gamma (30-40 Hz)': (30, 40)}\n",
    "epochs_psd.plot_topomap(ch_type='eeg', bands=bands, normalize=False, cmap='viridis');"
   ]
  },
  {
   "cell_type": "markdown",
   "metadata": {},
   "source": [
    "La salida de `compute_psd()` es un objeto de tipo `Spectrum`, que se puede indexar de manera similar a `Epochs`.\n",
    "\n",
    "A veces puede resultar interesante considerar la potencia relativa, definida como la potencia en una banda dada dividida por la potencia total. Para explorar esta opción, es necesario establecer el parámetro `normalize` a `True`."
   ]
  },
  {
   "cell_type": "code",
   "execution_count": null,
   "metadata": {},
   "outputs": [],
   "source": [
    "epochs_psd['face'].plot_topomap(ch_type='eeg', bands=bands, normalize=True, cmap='viridis');\n",
    "epochs_psd['scrambled'].plot_topomap(ch_type='eeg', bands=bands, normalize=True, cmap='viridis');"
   ]
  },
  {
   "cell_type": "markdown",
   "metadata": {},
   "source": [
    "## Análisis tiempo-frecuencia: potencia y coherencia inter-trial\n",
    "\n",
    "Ahora calcularemos las representaciones tiempo-frecuencia (TRF, time-frequency representations) de nuestras épocas. Visualizaremos la potencia y la coherencia inter-trial (ITC). Para esto utilizaremos la función `mne.time_frequency.tfr_morlet`, pero también se puede usar `mne.time_frequency.tfr_multitaper` o `mne.time_frequency.tfr_stockwell`."
   ]
  },
  {
   "cell_type": "code",
   "execution_count": 10,
   "metadata": {},
   "outputs": [],
   "source": [
    "# Definimos las frecuencias de interés (espaciadas logarítmicamente)\n",
    "\n",
    "freqs = np.logspace(*np.log10([5, 30]), num=20)\n",
    "\n",
    "# Seleccionamos los canales de EEG que queremos analizar\n",
    "eeg_chan=range(306,375)\n",
    "\n",
    "n_cycles = 3.  \n",
    "\n",
    "power, itc = tfr_morlet(epochs, freqs=freqs, n_cycles=n_cycles, use_fft=True,\n",
    "                        return_itc=True, decim=3, n_jobs=1, picks=eeg_chan)\n"
   ]
  },
  {
   "cell_type": "code",
   "execution_count": null,
   "metadata": {},
   "outputs": [],
   "source": [
    "# Recortamos para remover artefactos de borde\n",
    "\n",
    "power.crop(-0.45, 1.6) \n",
    "itc.crop(-0.45, 1.6) "
   ]
  },
  {
   "cell_type": "markdown",
   "metadata": {},
   "source": [
    "### Inspeccionando la potencia\n",
    "\n",
    "Veamos la representación tiempo-frecuencia de todos los canales. \n",
    "\n",
    "<div class=\"alert alert-info\"><h4>Nota</h4><p>Las figuras generadas son interactivas. En la topografía, se puede hacer click sobre la imagen para visualizar los datos de uno de los sensores. También se puede seleccionar una porción del plano tiempo-frecuencia para obtener la topografía para esa  región determinada</p></div>\n",
    "\n",
    "\n"
   ]
  },
  {
   "cell_type": "code",
   "execution_count": 12,
   "metadata": {},
   "outputs": [],
   "source": [
    "# Algunos ajustes de línea de base, que serán aplicados a nuestros gráficos.\n",
    "baseline_mode = 'logratio' \n",
    "baseline = (-0.45, -0.1)"
   ]
  },
  {
   "cell_type": "markdown",
   "metadata": {},
   "source": [
    "<div class=\"alert alert-info\"><h4>Nota</h4><p>¡Importante! \n",
    "La línea de base con la que estamos trabajando es demasiado corta para las bajas frecuencias en nuestra descomposición:<br>\n",
    "Para 5 Hz, o ventanas temporales de 3 ciclos, son 600 ms de duración. ¡Esto es más largo que que nuestro intervalo de línea de base! <br>\n",
    "Además, elegimos solo 100 ms de buffer hacia 0: si centramos la ondita de 5 Hz - 3 ciclos en -100 ms, alcanzaríamos 200 ms después de 0, por lo que se estaría filtrando actividad post estímulo en nuestro baseline, lo cual no es nada bueno. <br>\n",
    "\n",
    "Entonces, ¿qué hacemos? <br>\n",
    "En la vida real, (re) cortaríamos las épocas para obtener más de 500 ms de línea de base\n",
    "</p></div>"
   ]
  },
  {
   "cell_type": "code",
   "execution_count": 13,
   "metadata": {},
   "outputs": [],
   "source": [
    "%matplotlib qt\n",
    "power.plot_topo(baseline=baseline, mode=baseline_mode, title='Average power');"
   ]
  },
  {
   "cell_type": "code",
   "execution_count": null,
   "metadata": {},
   "outputs": [],
   "source": [
    "%matplotlib inline\n",
    "power.plot([0], baseline=baseline, mode=baseline_mode, title=power.ch_names[0]);"
   ]
  },
  {
   "cell_type": "markdown",
   "metadata": {},
   "source": [
    "Nuevamente, podemos visualizar las topografías en las diferentes bandas frecuenciales"
   ]
  },
  {
   "cell_type": "code",
   "execution_count": null,
   "metadata": {},
   "outputs": [],
   "source": [
    "fig, axes = plt.subplots(1, 3, figsize=(7, 4))\n",
    "plot_freqs = [(4, 7), (8, 12), (15, 30)]\n",
    "titles = ['Theta', 'Alpha', 'Beta']\n",
    "\n",
    "for ax, freq, title in zip(axes, plot_freqs, titles):\n",
    "    power.plot_topomap(ch_type='eeg', tmin=0.5, tmax=1.0, \n",
    "                   fmin=freq[0], fmax=freq[1],\n",
    "                   baseline=baseline, mode=baseline_mode, \n",
    "                   axes=ax, show=False, contours=1)\n",
    "    ax.set_title(title)\n",
    "\n",
    "mne.viz.tight_layout()\n",
    "plt.show()"
   ]
  },
  {
   "cell_type": "markdown",
   "metadata": {},
   "source": [
    "### Gráfico conjunto\n",
    "\n",
    "Se pueden crear también gráficos conjuntos en los cuales visualizar al mismo tiempo la TFR a lo largo de los canales y los mapas topográficos en tiempos y frecuencias específicas. De esta manera, se obtiene una descripción general de los efectos oscilatorios a través del tiempo y del espacio. "
   ]
  },
  {
   "cell_type": "code",
   "execution_count": null,
   "metadata": {},
   "outputs": [],
   "source": [
    "power.plot_joint(baseline=baseline, mode='mean', tmin=None, tmax=None,\n",
    "                 timefreqs=[(0.15, 6.), (1., 10.)]);"
   ]
  },
  {
   "cell_type": "markdown",
   "metadata": {},
   "source": [
    "### Cómputo de FWHM para nuestras onditas\n",
    "\n",
    "Anteriormente definimos nuestras onditas en función del  _número de ciclos_. Mike X Cohen (Cohen 2019, NeuroImage (199, p. 81-86)) argumenta que es mejor definirla mediante la anchura a media altura (full-width-at-half-maximum, FWHM) de la ondita de Morlet.\n",
    "\n",
    "Quizás recuerden que nuestra ondita de `n_cycles` es multiplicada por una Gaussiana que amortigua la ondita cerca de los bordes. Por lo tanto, FWHM es una mejor estimación del suavizado temporal que el largo total de `n_cycles`  \n",
    "\n",
    "Veamos como hacerlo: "
   ]
  },
  {
   "cell_type": "code",
   "execution_count": null,
   "metadata": {},
   "outputs": [],
   "source": [
    "# Primero revisemos nuestro ciclo por frecuencia - los hemos especficado más arriba:\n",
    "freqs, n_cycles  # este es el número de ciclos que pedimos por frecuencia"
   ]
  },
  {
   "cell_type": "markdown",
   "metadata": {},
   "source": [
    "La fórmula para calcular la FWHM es  (Cohen 2019, eq. 4):\n",
    "\n",
    "$ FWHM = \\frac{n  \\sqrt(2  \\ln 2)}{\\pi * f} \\enspace,$\n",
    "\n",
    "donde $n$ es el número de ciclos, $f$ es la frecuencia, y $\\ln$ denota el logaritmo natural.\n",
    "\n",
    "¡Convirtamos esta ecuación en una pequeña función!"
   ]
  },
  {
   "cell_type": "code",
   "execution_count": 18,
   "metadata": {},
   "outputs": [],
   "source": [
    "def get_fwhm_morlet(n_cycles, freq):\n",
    "    \"\"\"Estima la FWHM de una ondita de Morlet\"\"\"\n",
    "\n",
    "    fwhm = (n_cycles * np.sqrt(2 * np.log(2))) / (np.pi * freq)\n",
    "    return fwhm"
   ]
  },
  {
   "cell_type": "markdown",
   "metadata": {},
   "source": [
    "Ahora estimemos cuál es la longitud del FWHM de nuestra ondita en segundos:"
   ]
  },
  {
   "cell_type": "code",
   "execution_count": null,
   "metadata": {},
   "outputs": [],
   "source": [
    "for freq in freqs:\n",
    "    \n",
    "    # estimate fwhm\n",
    "    fwhm = get_fwhm_morlet(n_cycles, freq)\n",
    "\n",
    "    # print it\n",
    "    print('FWHM a %.3f Hz fue %.3f s' % (freq, fwhm))"
   ]
  },
  {
   "cell_type": "markdown",
   "metadata": {},
   "source": [
    "### Inspeccionemos la coherencia inter-trial (ITC)\n"
   ]
  },
  {
   "cell_type": "code",
   "execution_count": 20,
   "metadata": {},
   "outputs": [],
   "source": [
    "%matplotlib qt\n",
    "itc.plot_topo(title='Inter-Trial coherence', vmin=0., vmax=1., cmap='Reds');"
   ]
  },
  {
   "cell_type": "code",
   "execution_count": null,
   "metadata": {},
   "outputs": [],
   "source": [
    "%matplotlib inline\n",
    "itc.plot_joint(baseline=baseline, mode='mean', tmin=None, tmax=None,\n",
    "                 timefreqs=[(0.15, 6.), (1., 10.)]);"
   ]
  }
 ],
 "metadata": {
  "kernelspec": {
   "display_name": "mne",
   "language": "python",
   "name": "python3"
  },
  "language_info": {
   "codemirror_mode": {
    "name": "ipython",
    "version": 3
   },
   "file_extension": ".py",
   "mimetype": "text/x-python",
   "name": "python",
   "nbconvert_exporter": "python",
   "pygments_lexer": "ipython3",
   "version": "3.11.5"
  },
  "orig_nbformat": 4
 },
 "nbformat": 4,
 "nbformat_minor": 2
}
