{
 "cells": [
  {
   "cell_type": "markdown",
   "metadata": {},
   "source": [
    "# Hola y bienvenidos!\n",
    " \n",
    "Con esta breve notebook, verifiquemos si su instalación fue exitosa."
   ]
  },
  {
   "cell_type": "markdown",
   "metadata": {},
   "source": [
    "Primero veamos si tiene MNE-Python instalado. Ejecute la celda de código a continuación. _No_ debería mostrarte un error:"
   ]
  },
  {
   "cell_type": "code",
   "execution_count": 1,
   "metadata": {},
   "outputs": [],
   "source": [
    "import mne"
   ]
  },
  {
   "cell_type": "markdown",
   "metadata": {},
   "source": [
    "Revisemos también algunas dependencias que deberían haberse instalado al mismo tiempo. Una vez más, ¡no deberían surgir errores!"
   ]
  },
  {
   "cell_type": "code",
   "execution_count": 2,
   "metadata": {},
   "outputs": [],
   "source": [
    "import numpy\n",
    "import scipy\n",
    "import matplotlib"
   ]
  },
  {
   "cell_type": "markdown",
   "metadata": {},
   "source": [
    "Ahora, si hubo algún error, puede verificar lo siguiente:\n",
    "\n",
    "1. Si instaló MNE-Python en un entorno conda, ¿lo activó _antes_ de iniciar su servidor portátil Jupyter?\n",
    "2. Igual que 1.: si estás en un IDE, ¿has elegido el entorno adecuado?\n",
    "3. Si eso no lo resuelve, puede consultar esta página y ver si se analiza su problema: https://mne.tools/stable/install/advanced.html#advanced-setup"
   ]
  },
  {
   "cell_type": "markdown",
   "metadata": {},
   "source": [
    "Veamos también si tienes instalada la versión correcta. Esto debería devolver \"1.2.2\" o superior."
   ]
  },
  {
   "cell_type": "code",
   "execution_count": 3,
   "metadata": {},
   "outputs": [
    {
     "data": {
      "text/plain": [
       "'1.5.1'"
      ]
     },
     "execution_count": 3,
     "metadata": {},
     "output_type": "execute_result"
    }
   ],
   "source": [
    "mne.__version__"
   ]
  },
  {
   "cell_type": "markdown",
   "metadata": {},
   "source": [
    "Si esto le devuelve un número diferente, instaló la versión MNE-Python incorrecta o se encuentra en un entorno incorrecto.\n",
    "\n",
    "(O tiene una configuración de ruta avanzada... ¡entonces probablemente sea más fácil instalar todo en un nuevo entorno conda!)"
   ]
  },
  {
   "cell_type": "markdown",
   "metadata": {},
   "source": [
    "Por último, necesitaremos algunas herramientas adicionales para la lección de reconstrucción de fuentes; es por eso que MNE-Python debe instalarse con _todas las dependencias_. Si lo siguiente genera un error, agregue esos paquetes o descargue MNE con todas las dependencias."
   ]
  },
  {
   "cell_type": "code",
   "execution_count": 4,
   "metadata": {},
   "outputs": [],
   "source": [
    "import nilearn\n",
    "import pyvista"
   ]
  }
 ],
 "metadata": {
  "kernelspec": {
   "display_name": "Python 3.10.8 ('mne_aix')",
   "language": "python",
   "name": "python3"
  },
  "language_info": {
   "codemirror_mode": {
    "name": "ipython",
    "version": 3
   },
   "file_extension": ".py",
   "mimetype": "text/x-python",
   "name": "python",
   "nbconvert_exporter": "python",
   "pygments_lexer": "ipython3",
   "version": "3.11.5"
  },
  "orig_nbformat": 4,
  "vscode": {
   "interpreter": {
    "hash": "96118219f514f0f7c28e51c58abb2aa3e9c527721ceabff83c3dd194a32d9fc1"
   }
  }
 },
 "nbformat": 4,
 "nbformat_minor": 2
}
