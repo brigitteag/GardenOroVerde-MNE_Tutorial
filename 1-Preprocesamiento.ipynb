{
 "cells": [
  {
   "cell_type": "markdown",
   "metadata": {},
   "source": [
    "# Preprocesamiento de datos en MNE-Python\n",
    "\n",
    "`\n",
    "Autores:\n",
    "Brigitte Aguilar, Sofía Poux, Elizabeth Young\n",
    "`\n",
    "\n",
    "Modificado de *PracticalMEEG2022: MNE-python hands-on tutorial*. Por Britta Westner. "
   ]
  },
  {
   "cell_type": "markdown",
   "metadata": {},
   "source": [
    "## Setup\n",
    "\n",
    "Comenzaremos por cargar los paquetes que necesitaremos. Dentro de ellos se incluyen `matplotlib` para graficación, `os` para el manejo de directorios de archivos, `numpy` para operaciones numéricas y, por supuesto, `mne`.\n",
    "También usaremos matplotlib magic para graficar las figuras en la misma notebook (inline). "
   ]
  },
  {
   "cell_type": "code",
   "execution_count": 1,
   "metadata": {},
   "outputs": [],
   "source": [
    "%matplotlib inline \n",
    "import os\n",
    "import numpy as np\n",
    "import matplotlib as mpl\n",
    "import matplotlib.pyplot as plt\n",
    "import mne\n",
    "plt.style.use('ggplot')"
   ]
  },
  {
   "cell_type": "markdown",
   "metadata": {},
   "source": [
    "Comprobemos nuevamente nuestra versión MNE-Python. Esto nos debería devolver 1.5.1 o una versión previa"
   ]
  },
  {
   "cell_type": "code",
   "execution_count": 2,
   "metadata": {},
   "outputs": [
    {
     "data": {
      "text/plain": [
       "'1.5.1'"
      ]
     },
     "execution_count": 2,
     "metadata": {},
     "output_type": "execute_result"
    }
   ],
   "source": [
    "mne.__version__"
   ]
  },
  {
   "cell_type": "markdown",
   "metadata": {},
   "source": [
    "Configuramos el nivel de detalle de los mensajes de salida para que sea menos detallada:"
   ]
  },
  {
   "cell_type": "code",
   "execution_count": 3,
   "metadata": {},
   "outputs": [],
   "source": [
    "mne.set_log_level('warning')"
   ]
  },
  {
   "cell_type": "markdown",
   "metadata": {},
   "source": [
    "### Ayuda!\n",
    "\n",
    "Recordá, si necesitas ayuda podés pedirla utilizando el signo de interrogación. \n",
    "Veamos cómo podemos obtener la documentación de una función. Por ejemplo, de la función `pick_types`."
   ]
  },
  {
   "cell_type": "code",
   "execution_count": null,
   "metadata": {},
   "outputs": [],
   "source": [
    "mne.pick_types?"
   ]
  },
  {
   "cell_type": "markdown",
   "metadata": {},
   "source": [
    "## Estableciendo la ruta de los datos"
   ]
  },
  {
   "cell_type": "markdown",
   "metadata": {},
   "source": [
    "En primer lugar, debes descargar la carpeta del dataset `Datos`. Luego, dejaremos a Python saber dónde encontrar esta carpeta en nuestro disco. Para ello, deberás modificar la ruta de abajo para que se ajuste a la estructura de la ruta de tu computadora!.\n",
    "Podés imprimir la ruta completa para verificar que el directorio sea correcto. "
   ]
  },
  {
   "cell_type": "code",
   "execution_count": 4,
   "metadata": {},
   "outputs": [],
   "source": [
    "# Modificá la siguiente ruta según dónde se encuentre la carpeta Datos en tu disco\n",
    "data_path = os.path.expanduser(\"~/Documents/MNE-projects/mne_tutorial_GardenOroVerde/Datos/\")\n",
    "\n",
    "raw_fname = os.path.join(data_path,\n",
    "    'sub-01/sub-01_ses-meg_task-facerecognition_run-01_proc-sss_meg.fif')"
   ]
  },
  {
   "cell_type": "code",
   "execution_count": null,
   "metadata": {},
   "outputs": [],
   "source": [
    "print(raw_fname)"
   ]
  },
  {
   "cell_type": "markdown",
   "metadata": {},
   "source": [
    "Utilizá `bash` para verificar que la ruta se encuentra allí. Si esto te da un error, es problable que hayas cometido un error de tipeo en la ruta!"
   ]
  },
  {
   "cell_type": "code",
   "execution_count": null,
   "metadata": {},
   "outputs": [],
   "source": [
    "ls $raw_fname"
   ]
  },
  {
   "cell_type": "markdown",
   "metadata": {},
   "source": [
    "## Acceso y lectura de los datos crudos"
   ]
  },
  {
   "cell_type": "code",
   "execution_count": null,
   "metadata": {},
   "outputs": [],
   "source": [
    "mne.io.read_raw_fif?"
   ]
  },
  {
   "cell_type": "code",
   "execution_count": null,
   "metadata": {},
   "outputs": [],
   "source": [
    "raw = mne.io.read_raw_fif(raw_fname, preload=False)\n",
    "print(raw)"
   ]
  },
  {
   "cell_type": "code",
   "execution_count": null,
   "metadata": {},
   "outputs": [],
   "source": [
    "raw"
   ]
  },
  {
   "cell_type": "markdown",
   "metadata": {},
   "source": [
    "Para más información sobre cómo importar datos en MNE, visitá:\n",
    "- para MEG: https://mne.tools/stable/auto_tutorials/io/plot_10_reading_meg_data.html\n",
    "- para EEG: https://mne.tools/stable/auto_tutorials/io/plot_20_reading_eeg_data.html"
   ]
  },
  {
   "cell_type": "markdown",
   "metadata": {},
   "source": [
    "## Entendiendo el archivo de los datos"
   ]
  },
  {
   "cell_type": "markdown",
   "metadata": {},
   "source": [
    "Veamos la información de las mediciones. Allí encontrarás detalles sobre:\n",
    "   - frecuencia de muestreo\n",
    "   - parámetros de filtrado\n",
    "   - tipos de canales disponibles \n",
    "   - canales defectuosos\n",
    "   - etc."
   ]
  },
  {
   "cell_type": "code",
   "execution_count": null,
   "metadata": {},
   "outputs": [],
   "source": [
    "print(raw.info)"
   ]
  },
  {
   "cell_type": "markdown",
   "metadata": {},
   "source": [
    "<div class=\"alert alert-success\">\n",
    "    <b>Ejercicio</b>:\n",
    "     <ul>\n",
    "    <li>¿Cuántos canales tenés para cada uno de los tipos de sensores?</li>\n",
    "    <li>¿Cuál es la frecuencia de muestreo?</li>\n",
    "    <li>¿Los datos fueron filtrados?</li>\n",
    "    <li>¿Cuál es la frecuencia del ruido de línea?</li>\n",
    "    <li>¿Existe algún canal defectuoso?</li>\n",
    "    </ul>\n",
    "</div>"
   ]
  },
  {
   "cell_type": "markdown",
   "metadata": {},
   "source": [
    "## Una mirada más cercana al diccionario info"
   ]
  },
  {
   "cell_type": "markdown",
   "metadata": {},
   "source": [
    "raw.info no es más que un diccionario:"
   ]
  },
  {
   "cell_type": "code",
   "execution_count": null,
   "metadata": {},
   "outputs": [],
   "source": [
    "isinstance(raw.info, dict)"
   ]
  },
  {
   "cell_type": "markdown",
   "metadata": {},
   "source": [
    "Por lo tanto, podemos acceder a sus elementos de esta forma:"
   ]
  },
  {
   "cell_type": "code",
   "execution_count": null,
   "metadata": {},
   "outputs": [],
   "source": [
    "raw.info['sfreq']  # Frecuencia de muestreo"
   ]
  },
  {
   "cell_type": "code",
   "execution_count": null,
   "metadata": {},
   "outputs": [],
   "source": [
    "raw.info['bads']  # lista de canales defectuosos"
   ]
  },
  {
   "cell_type": "code",
   "execution_count": null,
   "metadata": {},
   "outputs": [],
   "source": [
    "raw.info['line_freq']  # frecuencia del ruido de línea"
   ]
  },
  {
   "cell_type": "markdown",
   "metadata": {},
   "source": [
    "## Una mirada más cercana a los canales\n",
    "Ahora veamos qué canales están presentes. Esto lo podemos ver a través del atributo `raw.ch_names`."
   ]
  },
  {
   "cell_type": "code",
   "execution_count": null,
   "metadata": {},
   "outputs": [],
   "source": [
    "type(raw.ch_names)"
   ]
  },
  {
   "cell_type": "code",
   "execution_count": null,
   "metadata": {},
   "outputs": [],
   "source": [
    "raw.ch_names[:10]  # esto imprime los primeros 10 canales"
   ]
  },
  {
   "cell_type": "markdown",
   "metadata": {},
   "source": [
    "Podés indexarlos como una lista."
   ]
  },
  {
   "cell_type": "code",
   "execution_count": null,
   "metadata": {},
   "outputs": [],
   "source": [
    "raw.ch_names[42]"
   ]
  },
  {
   "cell_type": "markdown",
   "metadata": {},
   "source": [
    "También podemos consultar el tipo de canal de un canal específico:"
   ]
  },
  {
   "cell_type": "code",
   "execution_count": null,
   "metadata": {},
   "outputs": [],
   "source": [
    "channel_type = mne.io.pick.channel_type(raw.info, 75)\n",
    "print('Canal #75 es de tipo:', channel_type)  # para imprimir de manera ordenada\n",
    "\n",
    "channel_type = mne.io.pick.channel_type(raw.info, 320)\n",
    "print('Canal #320 es de tipo:', channel_type)"
   ]
  },
  {
   "cell_type": "markdown",
   "metadata": {},
   "source": [
    "La información también contiene todos los detalles sobre los sensores (tipo, ubicaciones, marco coordenado, etc.) en `chs`:"
   ]
  },
  {
   "cell_type": "code",
   "execution_count": null,
   "metadata": {},
   "outputs": [],
   "source": [
    "len(raw.info['chs'])"
   ]
  },
  {
   "cell_type": "code",
   "execution_count": null,
   "metadata": {},
   "outputs": [],
   "source": [
    "type(raw.info['chs'])"
   ]
  },
  {
   "cell_type": "code",
   "execution_count": null,
   "metadata": {},
   "outputs": [],
   "source": [
    "raw.info['chs'][0]  # chequeamos el primer canal"
   ]
  },
  {
   "cell_type": "code",
   "execution_count": null,
   "metadata": {},
   "outputs": [],
   "source": [
    "raw.info['chs'][330]"
   ]
  },
  {
   "cell_type": "markdown",
   "metadata": {},
   "source": [
    "Ahora que sabemos que hay canales de EEG y MEG en los datos, podemos graficar ambos por separado. Las posiciones de los canales están disponibles en el atributo info del objeto raw, por lo tanto, podemos graficar las ubicaciones de los mismos directamente desde el objeto raw utilizando `plot_sensors()`."
   ]
  },
  {
   "cell_type": "code",
   "execution_count": null,
   "metadata": {},
   "outputs": [],
   "source": [
    "raw.plot_sensors(kind='topomap', ch_type='grad');"
   ]
  },
  {
   "cell_type": "code",
   "execution_count": null,
   "metadata": {},
   "outputs": [],
   "source": [
    "raw.plot_sensors(kind='topomap', ch_type='eeg');"
   ]
  },
  {
   "cell_type": "markdown",
   "metadata": {},
   "source": [
    "## Configurando los tipos de canales y re-referenciando\n",
    "\n",
    "Algunos canales están definidos erróneamente como EEG en el archivo. \n",
    "Dos de ellos son de EOG (EEG061 y EEG062) y EEG063 es una canal de ECG. EEG064 estaba registrando pero no estaba conectado a nada así que lo haremos `'misc'` en su lugar. \n",
    "Ahora configuraremos los tipos de canales para aquellos canales clasificados incorrectamente. Esto será útil para el rechazo automático de artefactos."
   ]
  },
  {
   "cell_type": "code",
   "execution_count": null,
   "metadata": {},
   "outputs": [],
   "source": [
    "raw.set_channel_types?"
   ]
  },
  {
   "cell_type": "code",
   "execution_count": null,
   "metadata": {},
   "outputs": [],
   "source": [
    "raw.set_channel_types({'EEG061': 'eog',  #  EOG no EEG\n",
    "                       'EEG062': 'eog',  #  EOG no EEG\n",
    "                       'EEG063': 'ecg',  #  ECG no EEG\n",
    "                       'EEG064': 'misc'})  # EEG064 no conectado\n",
    "\n",
    "# Renombramos los canales de EOG y ECG:\n",
    "raw.rename_channels({'EEG061': 'EOG061',\n",
    "                     'EEG062': 'EOG062',\n",
    "                     'EEG063': 'ECG063'})"
   ]
  },
  {
   "cell_type": "code",
   "execution_count": null,
   "metadata": {},
   "outputs": [],
   "source": [
    "raw.info"
   ]
  },
  {
   "cell_type": "code",
   "execution_count": null,
   "metadata": {},
   "outputs": [],
   "source": [
    "raw.plot_sensors(kind='topomap', ch_type='eeg');"
   ]
  },
  {
   "cell_type": "markdown",
   "metadata": {},
   "source": [
    "Una vez que hayamos arreglado los canales, podemos re-referenciar los canales de EEG al promedio de los mismos. "
   ]
  },
  {
   "cell_type": "code",
   "execution_count": null,
   "metadata": {},
   "outputs": [],
   "source": [
    "# Para configurar la referencia debemos cargar los datos en la memoria:\n",
    "raw.load_data()\n",
    "print(raw.info['custom_ref_applied'])  # veamos si existe una referencia"
   ]
  },
  {
   "cell_type": "code",
   "execution_count": null,
   "metadata": {},
   "outputs": [],
   "source": [
    "# ahora re-referenciamos\n",
    "raw.set_eeg_reference(ref_channels='average', projection=False)\n",
    "print(raw.info['projs'])  # no agregado como proyección\n",
    "print(raw.info['custom_ref_applied'])"
   ]
  },
  {
   "cell_type": "markdown",
   "metadata": {},
   "source": [
    "## Accediendo a los datos\n",
    "\n",
    "Para acceder a los datos sólo debes utilizar `[]` tal como se accede a cualquier elemento de una lista, diccionario, etc. Vemos que `raw[]` devuelve dos cosas: los datos y un arreglo de instantes de tiempo."
   ]
  },
  {
   "cell_type": "code",
   "execution_count": null,
   "metadata": {},
   "outputs": [],
   "source": [
    "start, stop = 0, 10\n",
    "data, times = raw[:, start:stop]  # acceder a todos los canales para los primeros 10 instantes de tiempo\n",
    "print(data.shape)\n",
    "print(times.shape)"
   ]
  },
  {
   "cell_type": "code",
   "execution_count": null,
   "metadata": {},
   "outputs": [],
   "source": [
    "times  # siempre comienzan en 0 por convención"
   ]
  },
  {
   "cell_type": "markdown",
   "metadata": {},
   "source": [
    "Vimos que `raw[]` devuelve ambas cosas, los datos y los instantes de tiempo."
   ]
  },
  {
   "cell_type": "markdown",
   "metadata": {},
   "source": [
    "## Remuestreando los datos\n",
    "\n",
    "Ahora cambiaremos la frecuencia de muestreo de los datos para acelerar los cálculos.."
   ]
  },
  {
   "cell_type": "code",
   "execution_count": null,
   "metadata": {},
   "outputs": [],
   "source": [
    "raw.load_data()  # cargar datos en memoria\n",
    "raw.resample(300)"
   ]
  },
  {
   "cell_type": "markdown",
   "metadata": {},
   "source": [
    "Y eliminemos los canales innecesarios: algunos canales de estímulo vacíos, canales misc y canales HPI."
   ]
  },
  {
   "cell_type": "code",
   "execution_count": null,
   "metadata": {},
   "outputs": [],
   "source": [
    "raw.drop_channels?"
   ]
  },
  {
   "cell_type": "code",
   "execution_count": 37,
   "metadata": {},
   "outputs": [],
   "source": [
    "to_drop = ['STI201', 'STI301', 'MISC201', 'MISC202', 'MISC203',\n",
    "           'MISC204', 'MISC205', 'MISC206', 'MISC301', 'MISC302',\n",
    "           'MISC303', 'MISC304', 'MISC305', 'MISC306', 'CHPI001',\n",
    "           'CHPI002', 'CHPI003', 'CHPI004', 'CHPI005', 'CHPI006',\n",
    "           'CHPI007', 'CHPI008', 'CHPI009']"
   ]
  },
  {
   "cell_type": "code",
   "execution_count": null,
   "metadata": {},
   "outputs": [],
   "source": [
    "raw.drop_channels(to_drop)"
   ]
  },
  {
   "cell_type": "markdown",
   "metadata": {},
   "source": [
    "## Filtrando los datos y graficando los datos crudos\n",
    "\n",
    "Filtraremos los datos entre 0 y 40 Hz utilizando un filtro de respuesta finita al impulso (FIR) de fase lineal."
   ]
  },
  {
   "cell_type": "markdown",
   "metadata": {},
   "source": [
    "<div class=\"alert alert-success\">\n",
    "    <b>EJERCICIO</b>:\n",
    "     <ul>\n",
    "      <li>¿Qué parámetros debemos configurar para realizar dicho filtrado, basándonos en la documentación del método `filter`?</li>\n",
    "    </ul>\n",
    "</div>\n"
   ]
  },
  {
   "cell_type": "code",
   "execution_count": null,
   "metadata": {},
   "outputs": [],
   "source": [
    "raw.filter?"
   ]
  },
  {
   "cell_type": "markdown",
   "metadata": {},
   "source": [
    "Para ver qué efecto tiene el filtrado en nuestros datos, primero grafiquemoslos rápidamente. Para una funcionalidad completa, le pedimos a matplotlib que muestre el gráfico en una ventana separada."
   ]
  },
  {
   "cell_type": "code",
   "execution_count": null,
   "metadata": {},
   "outputs": [],
   "source": [
    "%matplotlib qt\n",
    "raw.plot()"
   ]
  },
  {
   "cell_type": "code",
   "execution_count": null,
   "metadata": {},
   "outputs": [],
   "source": [
    "raw.filter(0, 40)"
   ]
  },
  {
   "cell_type": "markdown",
   "metadata": {},
   "source": [
    "Ahora que filtramos nuestros datos, veámoslos nuevamente. ¿Podés ver la diferencia?"
   ]
  },
  {
   "cell_type": "code",
   "execution_count": null,
   "metadata": {},
   "outputs": [],
   "source": [
    "raw.plot()"
   ]
  },
  {
   "cell_type": "markdown",
   "metadata": {},
   "source": [
    "<div class=\"alert alert-success\">\n",
    "    <b>EJERCICIO</b>:\n",
    "     <ul>\n",
    "      <li> ¿Qué señales cambiaron más debido al fitrado: EEG o MEG?</li>\n",
    "      <li> ¿A qué podría deberse?</li>\n",
    "      <li> ¿Observaste algún canal defectuoso?</li>\n",
    "      <li> ¿Cuáles son las características más relevantes que podés observar en los datos?</li>\n",
    "       </ul>\n",
    "</div>"
   ]
  },
  {
   "cell_type": "markdown",
   "metadata": {},
   "source": [
    "Para obtener más información sobre la visualización de datos crudos, consultá aquí: \n",
    "https://mne.tools/0.16/auto_tutorials/plot_visualize_raw.html\n"
   ]
  },
  {
   "cell_type": "markdown",
   "metadata": {},
   "source": [
    "## Una mirada a la estructura de eventos de los datos\n",
    "\n",
    "Los datos tienen diferentes eventos que marcan qué estímulo se presentó a los participantes. La estructura de evento/trigger es la siguiente:\n",
    "- 5, 6, 7: rostros famosos\n",
    "- 13, 14, 15: rostros no familiares\n",
    "- 17, 18, 19: rostros mezclados"
   ]
  },
  {
   "cell_type": "markdown",
   "metadata": {},
   "source": [
    "Primero veamos qué eventos hay:"
   ]
  },
  {
   "cell_type": "code",
   "execution_count": null,
   "metadata": {},
   "outputs": [],
   "source": [
    "events = mne.find_events(raw, stim_channel='STI101', verbose=True)"
   ]
  },
  {
   "cell_type": "code",
   "execution_count": null,
   "metadata": {},
   "outputs": [],
   "source": [
    "events"
   ]
  },
  {
   "cell_type": "code",
   "execution_count": null,
   "metadata": {},
   "outputs": [],
   "source": [
    "mne.count_events(events, ids=[5])"
   ]
  },
  {
   "cell_type": "markdown",
   "metadata": {},
   "source": [
    "<div class=\"alert alert-success\">\n",
    "    <b>EJERCICIO</b>:\n",
    "     <ul>\n",
    "    <li>¿De qué tipo es la variable events?</li>\n",
    "    <li>¿Cuál es el significado de las tres columnas de events?</li>\n",
    "    <li>¿Cuántos eventos con código 5 hay?\n",
    "    </ul>\n",
    "</div>\n",
    "\n",
    " "
   ]
  },
  {
   "cell_type": "markdown",
   "metadata": {},
   "source": [
    "Hubo un retraso temporal de 34,5 ms en la presentación del estímulo. Por lo cual necesitamos corregir los eventos."
   ]
  },
  {
   "cell_type": "code",
   "execution_count": 46,
   "metadata": {},
   "outputs": [],
   "source": [
    "delay = int(round(0.0345 * raw.info['sfreq']))\n",
    "events[:, 0] = events[:, 0] + delay"
   ]
  },
  {
   "cell_type": "markdown",
   "metadata": {},
   "source": [
    "Visualicemos el paradigma:"
   ]
  },
  {
   "cell_type": "code",
   "execution_count": 47,
   "metadata": {},
   "outputs": [],
   "source": [
    "events = events[events[:, 2] < 20]  # toma sólo los eventos con código menor a 20"
   ]
  },
  {
   "cell_type": "code",
   "execution_count": 48,
   "metadata": {},
   "outputs": [],
   "source": [
    "fig = mne.viz.plot_events(events, raw.info['sfreq']);"
   ]
  },
  {
   "cell_type": "markdown",
   "metadata": {},
   "source": [
    "Para etiquetar los eventos y condiciones utilizamos un diccionario de Python con claves que contienen \"/\" para agrupar subcondiciones."
   ]
  },
  {
   "cell_type": "code",
   "execution_count": 49,
   "metadata": {},
   "outputs": [],
   "source": [
    "event_id = {\n",
    "    'face/famous/first': 5,\n",
    "    'face/famous/immediate': 6,\n",
    "    'face/famous/long': 7,\n",
    "    'face/unfamiliar/first': 13,\n",
    "    'face/unfamiliar/immediate': 14,\n",
    "    'face/unfamiliar/long': 15,\n",
    "    'scrambled/first': 17,\n",
    "    'scrambled/immediate': 18,\n",
    "    'scrambled/long': 19,\n",
    "}"
   ]
  },
  {
   "cell_type": "code",
   "execution_count": 50,
   "metadata": {},
   "outputs": [],
   "source": [
    "fig = mne.viz.plot_events(events, sfreq=raw.info['sfreq'],\n",
    "                          event_id=event_id);"
   ]
  },
  {
   "cell_type": "markdown",
   "metadata": {},
   "source": [
    "Ahora podemos volver a ver nuestros datos crudos con las etiquetas de eventos modificadas:"
   ]
  },
  {
   "cell_type": "code",
   "execution_count": 51,
   "metadata": {},
   "outputs": [],
   "source": [
    "raw.plot(event_id=event_id, events=events);"
   ]
  },
  {
   "cell_type": "markdown",
   "metadata": {},
   "source": [
    "## Creación de épocas y rechazo de artefactos"
   ]
  },
  {
   "cell_type": "markdown",
   "metadata": {},
   "source": [
    "Definimos los parámetros de las épocas:"
   ]
  },
  {
   "cell_type": "code",
   "execution_count": 52,
   "metadata": {},
   "outputs": [],
   "source": [
    "tmin = -0.5  # comienzo de cada época (500ms antes del estímulo)\n",
    "tmax = 2.0  # final de cada época (2000ms luego del estímulo)"
   ]
  },
  {
   "cell_type": "markdown",
   "metadata": {},
   "source": [
    "Definimos el periodo de la línea de base (baseline):"
   ]
  },
  {
   "cell_type": "code",
   "execution_count": 53,
   "metadata": {},
   "outputs": [],
   "source": [
    "baseline = (-0.2, 0)  # 200ms antes del comienzo del estímulo (t = 0)"
   ]
  },
  {
   "cell_type": "markdown",
   "metadata": {},
   "source": [
    "Ahora elegimos los canales - MEG, EEG y EOG "
   ]
  },
  {
   "cell_type": "code",
   "execution_count": 54,
   "metadata": {},
   "outputs": [],
   "source": [
    "picks = mne.pick_types(raw.info, meg=True, eeg=True, eog=True,\n",
    "                       stim=False, exclude='bads')"
   ]
  },
  {
   "cell_type": "markdown",
   "metadata": {},
   "source": [
    "La forma más fácil (¿y quizás también la más peligrosa?) de limpiar los datos es definir parámetros de rechazo de pico-a-pico (rango de amplitud) para gradiómetros, magnetómetros y EOG."
   ]
  },
  {
   "cell_type": "markdown",
   "metadata": {},
   "source": [
    "<div class=\"alert alert-info\">\n",
    "    <b>OBSERVACIÓN</b>:\n",
    "     <ul>\n",
    "    <li>El <a href=\"https://autoreject.github.io/\">proyecto de rechacho automático</a> tiene como finalidad resolver este problema. Vea este <a href=\"https://www.sciencedirect.com/science/article/pii/S1053811917305013\">paper</a> para más información.</li>\n",
    "    </ul>\n",
    "</div>"
   ]
  },
  {
   "cell_type": "code",
   "execution_count": 55,
   "metadata": {},
   "outputs": [],
   "source": [
    "reject = dict(grad=4000e-13, mag=4e-12, eog=150e-6)  # esto puede ser altamente dependiente de los datos"
   ]
  },
  {
   "cell_type": "markdown",
   "metadata": {},
   "source": [
    "Ahora podemos juntar todo esto y crear las épocas:"
   ]
  },
  {
   "cell_type": "code",
   "execution_count": 56,
   "metadata": {},
   "outputs": [],
   "source": [
    "epochs = mne.Epochs(raw, events, event_id, tmin, tmax, proj=True,\n",
    "                    picks=picks, baseline=baseline,\n",
    "                    reject=reject)"
   ]
  },
  {
   "cell_type": "code",
   "execution_count": null,
   "metadata": {},
   "outputs": [],
   "source": [
    "print(epochs)  # veamos algunos detalles del objeto epochs"
   ]
  },
  {
   "cell_type": "markdown",
   "metadata": {},
   "source": [
    "Eliminemos explícitamente las épocas que identificamos como _malas_ a través de los umbrales que identificamos anteriormente:"
   ]
  },
  {
   "cell_type": "code",
   "execution_count": null,
   "metadata": {},
   "outputs": [],
   "source": [
    "epochs.drop_bad()  # rechaza las épocas malas mediante reject"
   ]
  },
  {
   "cell_type": "code",
   "execution_count": null,
   "metadata": {},
   "outputs": [],
   "source": [
    "epochs.load_data()  # cargar datos en memoria"
   ]
  },
  {
   "cell_type": "markdown",
   "metadata": {},
   "source": [
    "## Una mirada más cercana al rechazo de artefactos\n"
   ]
  },
  {
   "cell_type": "markdown",
   "metadata": {},
   "source": [
    "Primero, veamos cuáles son los métodos del objeto epochs.\n",
    "Descomente la línea a continuación y escriba ``epochs.``, se desplegará la lista de métodos disponibles. "
   ]
  },
  {
   "cell_type": "code",
   "execution_count": 60,
   "metadata": {},
   "outputs": [],
   "source": [
    "#epochs."
   ]
  },
  {
   "cell_type": "markdown",
   "metadata": {},
   "source": [
    "Veamos cómo se eliminaron las épocas."
   ]
  },
  {
   "cell_type": "code",
   "execution_count": null,
   "metadata": {},
   "outputs": [],
   "source": [
    "%matplotlib inline\n",
    "epochs.plot_drop_log();"
   ]
  },
  {
   "cell_type": "markdown",
   "metadata": {},
   "source": [
    "### Puede ser que..., ¿perdimos la mitad de nuestras épocas debido al EOG?\n",
    "\n",
    "Probablemente podamos hacerlo mejor. Utilicemos la proyección espacial de señales (SSP) basada en PCA para eliminar los patrones espaciales relacionados con el EOG y el ECG.\n",
    "\n",
    "Este es el flujo de trabajo: primero detectaremos artefactos de EOG y visualizaremos su impacto. Luego calcularemos patrones espaciales para mitigar estos artefactos."
   ]
  },
  {
   "cell_type": "code",
   "execution_count": null,
   "metadata": {},
   "outputs": [],
   "source": [
    "# Hay una función para crear épocas EOG:\n",
    "%matplotlib qt\n",
    "eog_epochs = mne.preprocessing.create_eog_epochs(raw.copy().filter(1, None))\n",
    "eog_epochs.average().plot_joint();"
   ]
  },
  {
   "cell_type": "markdown",
   "metadata": {},
   "source": [
    "Veamos dónde aparecen esos segmentos EOG en nuestros datos sin procesar:"
   ]
  },
  {
   "cell_type": "code",
   "execution_count": 65,
   "metadata": {},
   "outputs": [],
   "source": [
    "%matplotlib qt\n",
    "raw.plot(events=eog_epochs.events);"
   ]
  },
  {
   "cell_type": "markdown",
   "metadata": {},
   "source": [
    "Calculemos las proyecciones de SSP basadas en el EOG:"
   ]
  },
  {
   "cell_type": "code",
   "execution_count": 66,
   "metadata": {},
   "outputs": [],
   "source": [
    "projs_eog, _ = mne.preprocessing.compute_proj_eog(\n",
    "    raw, n_mag=3, n_grad=3, n_eeg=3, average=True)"
   ]
  },
  {
   "cell_type": "code",
   "execution_count": null,
   "metadata": {},
   "outputs": [],
   "source": [
    "projs_eog  # veamos cómo son"
   ]
  },
  {
   "cell_type": "code",
   "execution_count": null,
   "metadata": {},
   "outputs": [],
   "source": [
    "%matplotlib inline\n",
    "mne.viz.plot_projs_topomap(projs_eog, info=epochs.info);"
   ]
  },
  {
   "cell_type": "markdown",
   "metadata": {},
   "source": [
    "Ahora la pregunta importante es ¿cuántas componentes se deben conservar? Tip: algunas de ellas claramente no parecen patrones de artefactos.\n",
    "\n",
    "La buena noticia es que no tenemos que decidir __*ahora*__ mismo. Como podemos ver las proyecciones están almacenadas con los datos pero inactivas por el momento. \n",
    "\n",
    "Repitamos el procedimiento esta vez para los artefactos de ECG, como son los latidos cardiacos."
   ]
  },
  {
   "cell_type": "code",
   "execution_count": null,
   "metadata": {},
   "outputs": [],
   "source": [
    "# los mismo para el caso de ECG\n",
    "%matplotlib qt\n",
    "ecg_epochs = mne.preprocessing.create_ecg_epochs(raw.copy().filter(1, None))\n",
    "ecg_epochs.average().plot_joint()"
   ]
  },
  {
   "cell_type": "markdown",
   "metadata": {},
   "source": [
    "Podemos ver que también nos enfrentamos a contaminación con la señal cardíaca... eso también lo proyectaremos."
   ]
  },
  {
   "cell_type": "code",
   "execution_count": null,
   "metadata": {},
   "outputs": [],
   "source": [
    "projs_ecg, _ = mne.preprocessing.compute_proj_ecg(\n",
    "    raw, n_mag=3, n_grad=3, n_eeg=3, average=True)\n",
    "mne.viz.plot_projs_topomap(projs_ecg, info=epochs.info);"
   ]
  },
  {
   "cell_type": "markdown",
   "metadata": {},
   "source": [
    "## Aplicando las proyecciones y visualizando el efecto\n",
    "\n",
    "Ahora revirtamos nuestro rechazo de artefactos anterior y apliquemos las proyecciones en su lugar. "
   ]
  },
  {
   "cell_type": "code",
   "execution_count": null,
   "metadata": {},
   "outputs": [],
   "source": [
    "#Eliminamos el EOG de nuestro rechazo aquí:\n",
    "reject_no_eog = dict(mag=reject['mag'], grad=reject['grad']) \n",
    "\n",
    "epochs_clean = mne.Epochs(raw, events, event_id, tmin, tmax, proj=False,\n",
    "                          picks=picks, baseline=baseline,\n",
    "                          preload=False,\n",
    "                          reject=reject_no_eog)\n",
    "\n",
    "# y luego agregamos las proyecciones de EOG y ECG (¡pero aún no las aplicamos!)\n",
    "epochs_clean.add_proj(projs_eog + projs_ecg)\n"
   ]
  },
  {
   "cell_type": "markdown",
   "metadata": {},
   "source": [
    "Veamos un canal MEG frontal antes de aplicar las proyecciones:"
   ]
  },
  {
   "cell_type": "code",
   "execution_count": 72,
   "metadata": {},
   "outputs": [],
   "source": [
    "epochs_clean.plot_image(picks='MEG0123', sigma=1.);"
   ]
  },
  {
   "cell_type": "markdown",
   "metadata": {},
   "source": [
    "¡Ahora apliquemos las proyecciones a una copia y grafiquemos este canal nuevamente!"
   ]
  },
  {
   "cell_type": "code",
   "execution_count": 73,
   "metadata": {},
   "outputs": [],
   "source": [
    "epochs_proj = epochs_clean.copy().apply_proj()  # aplicamos las proyecciones a una copia\n",
    "\n",
    "epochs_proj.plot_image(picks='MEG0123', sigma=1.);"
   ]
  },
  {
   "cell_type": "markdown",
   "metadata": {},
   "source": [
    "Antes establecimos que probablemente no todas las proyecciones capturan parpadeos y artefactos cardíacos. ¡Así que repitamos este procedimiento pero solo proyectemos la _primera_ proyección por tipo de canal!"
   ]
  },
  {
   "cell_type": "code",
   "execution_count": 80,
   "metadata": {},
   "outputs": [],
   "source": [
    "%matplotlib qt\n",
    "epochs_clean.del_proj()\n",
    "epochs_clean.add_proj(projs_eog[::3] + projs_ecg[::3])  # añadimos solo algunas proyecciones SSP\n",
    "epochs_proj = epochs_clean.copy().apply_proj()  # aplicamos proyecciones a una copia\n",
    "\n",
    "epochs_proj.plot_image(picks='MEG0123', sigma=1.);"
   ]
  },
  {
   "cell_type": "code",
   "execution_count": null,
   "metadata": {},
   "outputs": [],
   "source": [
    "epochs_proj.info"
   ]
  },
  {
   "cell_type": "markdown",
   "metadata": {},
   "source": [
    "De esta manera, ahora mantenemos todas las épocas (trials), pero eliminamos los parpadeos y los artefactos cardíacos. Ahora guardaremos los datos con las proyecciones SSP _no aplicadas_."
   ]
  },
  {
   "cell_type": "markdown",
   "metadata": {},
   "source": [
    "<div class=\"alert alert-info\">\n",
    "    <b>OBSERVACIÓN</b>:\n",
    "     <ul>\n",
    "    <li>MNE mantiene las proyecciones SSP dentro de la información y permite aplicarlas más tarde.</li>\n",
    "    </ul>\n",
    "</div>"
   ]
  },
  {
   "cell_type": "markdown",
   "metadata": {},
   "source": [
    "#### Algunas reflexiones sobre el rechazo de artefactos\n",
    "\n",
    "En este ejemplo abordamos los artefactos en este conjunto de datos calculando proyecciones SSP. Sin embargo, hay muchas otras formas de rechazar artefactos:\n",
    "\n",
    "- marcar artefactos manualmente (inspección visual)\n",
    "- utilizar umbrales (lo cual falló para estos datos)\n",
    "- utilizar ICA\n",
    "- utilizar un pipeline automatizado, por ejemplo el <a href=\"https://autoreject.github.io/\">autoreject project</a>\n",
    "- etc.\n",
    "\n",
    "La mejor recomendación es: familiarizate con tus datos (crudos)! "
   ]
  },
  {
   "cell_type": "markdown",
   "metadata": {},
   "source": [
    "## Guardando las épocas"
   ]
  },
  {
   "cell_type": "code",
   "execution_count": 81,
   "metadata": {},
   "outputs": [],
   "source": [
    "# sobreescribamoslas\n",
    "epochs = epochs_clean"
   ]
  },
  {
   "cell_type": "markdown",
   "metadata": {},
   "source": [
    "La forma estándar es guardar las épocas como un archivo `.fif` junto con todos los datos del encabezado. Las épocas se guardan con el sufijo `-epo.fif`."
   ]
  },
  {
   "cell_type": "code",
   "execution_count": null,
   "metadata": {},
   "outputs": [],
   "source": [
    "epochs_fname = raw_fname.replace('_meg.fif', '-epo.fif')  # creamos el nombre del archivo\n",
    "epochs_fname"
   ]
  },
  {
   "cell_type": "code",
   "execution_count": null,
   "metadata": {},
   "outputs": [],
   "source": [
    "epochs.save(epochs_fname, overwrite=True) "
   ]
  },
  {
   "cell_type": "markdown",
   "metadata": {},
   "source": [
    "## Extra: visualización de  épocas\n",
    "\n",
    "Vea [ésta página](https://mne.tools/stable/auto_tutorials/epochs/20_visualize_epochs.html) para las opciones de visualización de épocas."
   ]
  },
  {
   "cell_type": "code",
   "execution_count": 83,
   "metadata": {},
   "outputs": [],
   "source": [
    "# Ya hemos visto las épocas en un gráfico apilado:\n",
    "\n",
    "epochs_proj.plot_image(picks='EEG065', sigma=1.);"
   ]
  },
  {
   "cell_type": "markdown",
   "metadata": {},
   "source": [
    "También podemos ver las épocas en una ventana del navegador de datos:"
   ]
  },
  {
   "cell_type": "code",
   "execution_count": null,
   "metadata": {},
   "outputs": [],
   "source": [
    "%matplotlib qt\n",
    "epochs.plot();"
   ]
  },
  {
   "cell_type": "code",
   "execution_count": null,
   "metadata": {},
   "outputs": [],
   "source": [
    "epochs.info"
   ]
  },
  {
   "cell_type": "code",
   "execution_count": null,
   "metadata": {},
   "outputs": [],
   "source": []
  }
 ],
 "metadata": {
  "kernelspec": {
   "display_name": "Python 3 (ipykernel)",
   "language": "python",
   "name": "python3"
  },
  "language_info": {
   "codemirror_mode": {
    "name": "ipython",
    "version": 3
   },
   "file_extension": ".py",
   "mimetype": "text/x-python",
   "name": "python",
   "nbconvert_exporter": "python",
   "pygments_lexer": "ipython3",
   "version": "3.11.5"
  },
  "vscode": {
   "interpreter": {
    "hash": "96118219f514f0f7c28e51c58abb2aa3e9c527721ceabff83c3dd194a32d9fc1"
   }
  },
  "widgets": {
   "state": {},
   "version": "1.1.2"
  }
 },
 "nbformat": 4,
 "nbformat_minor": 1
}
