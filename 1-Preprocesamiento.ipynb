{
 "cells": [
  {
   "cell_type": "markdown",
   "metadata": {},
   "source": [
    "# Preprocesamiento de datos en MNE-Python\n",
    "\n",
    "`\n",
    "Autores:\n",
    "Brigitte Aguilar, Sofía Poux, Elizabeth Young\n",
    "`\n",
    "\n",
    "Modificado de *PracticalMEEG2022: MNE-python hands-on tutorial*. Por Britta Westner. "
   ]
  },
  {
   "cell_type": "markdown",
   "metadata": {},
   "source": [
    "## Setup\n",
    "\n",
    "Comenzaremos por cargar los paquetes que necesitaremos. Dentro de ellos se incluyen `matplotlib` para graficación, `os` para el manejo de directorios de archivos, `numpy` para operaciones numéricas y, por supuesto, `mne`.\n",
    "También usaremos matplotlib magic para graficar las figuras en la misma notebook (inline). "
   ]
  },
  {
   "cell_type": "code",
   "execution_count": 1,
   "metadata": {},
   "outputs": [],
   "source": [
    "%matplotlib inline \n",
    "import os\n",
    "import numpy as np\n",
    "import matplotlib as mpl\n",
    "import matplotlib.pyplot as plt\n",
    "import mne\n",
    "plt.style.use('ggplot')"
   ]
  },
  {
   "cell_type": "markdown",
   "metadata": {},
   "source": [
    "Comprobemos nuevamente nuestra versión MNE-Python. Esto nos debería devolver 1.5.1 o una versión previa"
   ]
  },
  {
   "cell_type": "code",
   "execution_count": 2,
   "metadata": {},
   "outputs": [
    {
     "data": {
      "text/plain": [
       "'1.5.1'"
      ]
     },
     "execution_count": 2,
     "metadata": {},
     "output_type": "execute_result"
    }
   ],
   "source": [
    "mne.__version__"
   ]
  },
  {
   "cell_type": "markdown",
   "metadata": {},
   "source": [
    "Configuramos el nivel de detalle de los mensajes de salida para que sea menos detallada:"
   ]
  },
  {
   "cell_type": "code",
   "execution_count": 3,
   "metadata": {},
   "outputs": [],
   "source": [
    "mne.set_log_level('warning')"
   ]
  },
  {
   "cell_type": "markdown",
   "metadata": {},
   "source": [
    "### Ayuda!\n",
    "\n",
    "Recordá, si necesitas ayuda podés pedirla utilizando el signo de interrogación. \n",
    "Veamos cómo podemos obtener la documentación de una función. Por ejemplo, de la función `pick_types`."
   ]
  },
  {
   "cell_type": "code",
   "execution_count": null,
   "metadata": {},
   "outputs": [],
   "source": [
    "mne.pick_types?"
   ]
  },
  {
   "cell_type": "markdown",
   "metadata": {},
   "source": [
    "## Estableciendo la ruta de los datos"
   ]
  },
  {
   "cell_type": "markdown",
   "metadata": {},
   "source": [
    "En primer lugar, debes descargar la carpeta del dataset `Datos`. Luego, dejaremos a Python saber dónde encontrar esta carpeta en nuestro disco. Para ello, deberás modificar la ruta de abajo para que se ajuste a la estructura de la ruta de tu computadora!.\n",
    "Podés imprimir la ruta completa para verificar que el directorio sea correcto. "
   ]
  },
  {
   "cell_type": "code",
   "execution_count": 4,
   "metadata": {},
   "outputs": [],
   "source": [
    "# Modificá la siguiente ruta según dónde se encuentre la carpeta Datos en tu disco\n",
    "data_path = os.path.expanduser(\"~/Documents/MNE-projects/mne_tutorial_GardenOroVerde/Datos/\")\n",
    "\n",
    "raw_fname = os.path.join(data_path,\n",
    "    'sub-01/sub-01_ses-meg_task-facerecognition_run-01_proc-sss_meg.fif')"
   ]
  },
  {
   "cell_type": "code",
   "execution_count": 5,
   "metadata": {},
   "outputs": [
    {
     "name": "stdout",
     "output_type": "stream",
     "text": [
      "C:\\Users\\Usuario/Documents/MNE-projects/mne_tutorial_GardenOroVerde/Datos/sub-01/sub-01_ses-meg_task-facerecognition_run-01_proc-sss_meg.fif\n"
     ]
    }
   ],
   "source": [
    "print(raw_fname)"
   ]
  },
  {
   "cell_type": "markdown",
   "metadata": {},
   "source": [
    "Utilizá `bash` para verificar que la ruta se encuentra allí. Si esto te da un error, es problable que hayas cometido un error de tipeo en la ruta!"
   ]
  },
  {
   "cell_type": "code",
   "execution_count": 8,
   "metadata": {},
   "outputs": [
    {
     "name": "stderr",
     "output_type": "stream",
     "text": [
      "El formato del par�metro no es correcto: \"Documents\".\n"
     ]
    }
   ],
   "source": [
    "ls $raw_fname"
   ]
  },
  {
   "cell_type": "markdown",
   "metadata": {},
   "source": [
    "## Acceso y lectura de los datos crudos"
   ]
  },
  {
   "cell_type": "code",
   "execution_count": 9,
   "metadata": {},
   "outputs": [
    {
     "name": "stdout",
     "output_type": "stream",
     "text": [
      "\u001b[1;31mSignature:\u001b[0m\n",
      "\u001b[0mmne\u001b[0m\u001b[1;33m.\u001b[0m\u001b[0mio\u001b[0m\u001b[1;33m.\u001b[0m\u001b[0mread_raw_fif\u001b[0m\u001b[1;33m(\u001b[0m\u001b[1;33m\n",
      "\u001b[0m    \u001b[0mfname\u001b[0m\u001b[1;33m,\u001b[0m\u001b[1;33m\n",
      "\u001b[0m    \u001b[0mallow_maxshield\u001b[0m\u001b[1;33m=\u001b[0m\u001b[1;32mFalse\u001b[0m\u001b[1;33m,\u001b[0m\u001b[1;33m\n",
      "\u001b[0m    \u001b[0mpreload\u001b[0m\u001b[1;33m=\u001b[0m\u001b[1;32mFalse\u001b[0m\u001b[1;33m,\u001b[0m\u001b[1;33m\n",
      "\u001b[0m    \u001b[0mon_split_missing\u001b[0m\u001b[1;33m=\u001b[0m\u001b[1;34m'raise'\u001b[0m\u001b[1;33m,\u001b[0m\u001b[1;33m\n",
      "\u001b[0m    \u001b[0mverbose\u001b[0m\u001b[1;33m=\u001b[0m\u001b[1;32mNone\u001b[0m\u001b[1;33m,\u001b[0m\u001b[1;33m\n",
      "\u001b[0m\u001b[1;33m)\u001b[0m\u001b[1;33m\u001b[0m\u001b[1;33m\u001b[0m\u001b[0m\n",
      "\u001b[1;31mDocstring:\u001b[0m\n",
      "Reader function for Raw FIF data.\n",
      "\n",
      "Parameters\n",
      "----------\n",
      "fname : path-like | file-like\n",
      "    The raw filename to load. For files that have automatically been split,\n",
      "    the split part will be automatically loaded. Filenames should end\n",
      "    with raw.fif, raw.fif.gz, raw_sss.fif, raw_sss.fif.gz, raw_tsss.fif,\n",
      "    raw_tsss.fif.gz, or _meg.fif. If a file-like object is provided,\n",
      "    preloading must be used.\n",
      "\n",
      "    .. versionchanged:: 0.18\n",
      "       Support for file-like objects.\n",
      "allow_maxshield : bool | str (default False)\n",
      "    If True, allow loading of data that has been recorded with internal\n",
      "    active compensation (MaxShield). Data recorded with MaxShield should\n",
      "    generally not be loaded directly, but should first be processed using\n",
      "    SSS/tSSS to remove the compensation signals that may also affect brain\n",
      "    activity. Can also be \"yes\" to load without eliciting a warning.\n",
      "\n",
      "preload : bool or str (default False)\n",
      "    Preload data into memory for data manipulation and faster indexing.\n",
      "    If True, the data will be preloaded into memory (fast, requires\n",
      "    large amount of memory). If preload is a string, preload is the\n",
      "    file name of a memory-mapped file which is used to store the data\n",
      "    on the hard drive (slower, requires less memory).\n",
      "\n",
      "on_split_missing : str\n",
      "    Can be ``'raise'`` (default) to raise an error, ``'warn'`` to emit a\n",
      "    warning, or ``'ignore'`` to ignore when split file is missing.\n",
      "\n",
      "    .. versionadded:: 0.22\n",
      "\n",
      "verbose : bool | str | int | None\n",
      "    Control verbosity of the logging output. If ``None``, use the default\n",
      "    verbosity level. See the :ref:`logging documentation <tut-logging>` and\n",
      "    :func:`mne.verbose` for details. Should only be passed as a keyword\n",
      "    argument.\n",
      "\n",
      "Returns\n",
      "-------\n",
      "raw : instance of Raw\n",
      "    A Raw object containing FIF data.\n",
      "\n",
      "Notes\n",
      "-----\n",
      ".. versionadded:: 0.9.0\n",
      "\n",
      "When reading a FIF file, note that the first N seconds annotated\n",
      "``BAD_ACQ_SKIP`` are **skipped**. They are removed from ``raw.times`` and\n",
      "``raw.n_times`` parameters but ``raw.first_samp`` and ``raw.first_time``\n",
      "are updated accordingly.\n",
      "\u001b[1;31mFile:\u001b[0m      c:\\users\\admin\\mne-python\\1.5.1_0\\lib\\site-packages\\mne\\io\\fiff\\raw.py\n",
      "\u001b[1;31mType:\u001b[0m      function"
     ]
    }
   ],
   "source": [
    "mne.io.read_raw_fif?"
   ]
  },
  {
   "cell_type": "code",
   "execution_count": 6,
   "metadata": {},
   "outputs": [
    {
     "name": "stdout",
     "output_type": "stream",
     "text": [
      "<Raw | sub-01_ses-meg_task-facerecognition_run-01_proc-sss_meg.fif, 404 x 540100 (491.0 s), ~6.9 MB, data not loaded>\n"
     ]
    }
   ],
   "source": [
    "raw = mne.io.read_raw_fif(raw_fname, preload=False)\n",
    "print(raw)"
   ]
  },
  {
   "cell_type": "code",
   "execution_count": 7,
   "metadata": {},
   "outputs": [
    {
     "data": {
      "text/html": [
       "<table class=\"table table-hover table-striped table-sm table-responsive small\">\n",
       "    <tr>\n",
       "        <th>Measurement date</th>\n",
       "        \n",
       "        <td>March 22, 1941  11:04:14 GMT</td>\n",
       "        \n",
       "    </tr>\n",
       "    <tr>\n",
       "        <th>Experimenter</th>\n",
       "        \n",
       "        <td>MEG</td>\n",
       "        \n",
       "    </tr>\n",
       "        <th>Participant</th>\n",
       "        \n",
       "            \n",
       "        \n",
       "    </tr>\n",
       "    <tr>\n",
       "        <th>Digitized points</th>\n",
       "        \n",
       "        <td>137 points</td>\n",
       "        \n",
       "    </tr>\n",
       "    <tr>\n",
       "        <th>Good channels</th>\n",
       "        <td>204 Gradiometers, 102 Magnetometers, 74 EEG, 3 Stimulus, 12 misc, 9 CHPI</td>\n",
       "    </tr>\n",
       "    <tr>\n",
       "        <th>Bad channels</th>\n",
       "        <td>None</td>\n",
       "    </tr>\n",
       "    <tr>\n",
       "        <th>EOG channels</th>\n",
       "        <td>Not available</td>\n",
       "    </tr>\n",
       "    <tr>\n",
       "        <th>ECG channels</th>\n",
       "        <td>Not available</td>\n",
       "    \n",
       "    <tr>\n",
       "        <th>Sampling frequency</th>\n",
       "        <td>1100.00 Hz</td>\n",
       "    </tr>\n",
       "    \n",
       "    \n",
       "    <tr>\n",
       "        <th>Highpass</th>\n",
       "        <td>0.00 Hz</td>\n",
       "    </tr>\n",
       "    \n",
       "    \n",
       "    <tr>\n",
       "        <th>Lowpass</th>\n",
       "        <td>356.40 Hz</td>\n",
       "    </tr>\n",
       "    \n",
       "    \n",
       "    \n",
       "    <tr>\n",
       "        <th>Filenames</th>\n",
       "        <td>sub-01_ses-meg_task-facerecognition_run-01_proc-sss_meg.fif</td>\n",
       "    </tr>\n",
       "    \n",
       "    <tr>\n",
       "        <th>Duration</th>\n",
       "        <td>00:08:11 (HH:MM:SS)</td>\n",
       "    </tr>\n",
       "</table>"
      ],
      "text/plain": [
       "<Raw | sub-01_ses-meg_task-facerecognition_run-01_proc-sss_meg.fif, 404 x 540100 (491.0 s), ~6.9 MB, data not loaded>"
      ]
     },
     "execution_count": 7,
     "metadata": {},
     "output_type": "execute_result"
    }
   ],
   "source": [
    "raw"
   ]
  },
  {
   "cell_type": "markdown",
   "metadata": {},
   "source": [
    "Para más información sobre cómo importar datos en MNE, visitá:\n",
    "- para MEG: https://mne.tools/stable/auto_tutorials/io/plot_10_reading_meg_data.html\n",
    "- para EEG: https://mne.tools/stable/auto_tutorials/io/plot_20_reading_eeg_data.html"
   ]
  },
  {
   "cell_type": "markdown",
   "metadata": {},
   "source": [
    "## Entendiendo el archivo de los datos"
   ]
  },
  {
   "cell_type": "markdown",
   "metadata": {},
   "source": [
    "Veamos la información de las mediciones. Allí encontrarás detalles sobre:\n",
    "   - frecuencia de muestreo\n",
    "   - parámetros de filtrado\n",
    "   - tipos de canales disponibles \n",
    "   - canales defectuosos\n",
    "   - etc."
   ]
  },
  {
   "cell_type": "code",
   "execution_count": 12,
   "metadata": {},
   "outputs": [
    {
     "name": "stdout",
     "output_type": "stream",
     "text": [
      "<Info | 23 non-empty values\n",
      " acq_pars: ACQch001 110113 ACQch002 110112 ACQch003 110111 ACQch004 110122 ...\n",
      " bads: []\n",
      " ch_names: MEG0113, MEG0112, MEG0111, MEG0122, MEG0123, MEG0121, MEG0132, ...\n",
      " chs: 204 Gradiometers, 102 Magnetometers, 74 EEG, 3 Stimulus, 12 misc, 9 CHPI\n",
      " custom_ref_applied: False\n",
      " description: (meg) Vectorview system at Cambridge\n",
      " dev_head_t: MEG device -> head transform\n",
      " dig: 137 items (3 Cardinal, 5 HPI, 75 EEG, 54 Extra)\n",
      " events: 1 item (list)\n",
      " experimenter: MEG\n",
      " file_id: 4 items (dict)\n",
      " highpass: 0.0 Hz\n",
      " hpi_meas: 1 item (list)\n",
      " hpi_results: 1 item (list)\n",
      " hpi_subsystem: 2 items (dict)\n",
      " line_freq: 50.0\n",
      " lowpass: 356.4 Hz\n",
      " meas_date: 1941-03-22 11:04:14 UTC\n",
      " meas_id: 4 items (dict)\n",
      " nchan: 404\n",
      " proc_history: 1 item (list)\n",
      " proj_id: 1 item (ndarray)\n",
      " proj_name: dgw_studies\n",
      " projs: []\n",
      " sfreq: 1100.0 Hz\n",
      " subject_info: 2 items (dict)\n",
      ">\n"
     ]
    }
   ],
   "source": [
    "print(raw.info)"
   ]
  },
  {
   "cell_type": "markdown",
   "metadata": {},
   "source": [
    "<div class=\"alert alert-success\">\n",
    "    <b>Ejercicio</b>:\n",
    "     <ul>\n",
    "    <li>¿Cuántos canales tenés para cada uno de los tipos de sensores?</li>\n",
    "    <li>¿Cuál es la frecuencia de muestreo?</li>\n",
    "    <li>¿Los datos fueron filtrados?</li>\n",
    "    <li>¿Cuál es la frecuencia del ruido de línea?</li>\n",
    "    <li>¿Existe algún canal defectuoso?</li>\n",
    "    </ul>\n",
    "</div>"
   ]
  },
  {
   "cell_type": "markdown",
   "metadata": {},
   "source": [
    "## Una mirada más cercana al diccionario info"
   ]
  },
  {
   "cell_type": "markdown",
   "metadata": {},
   "source": [
    "raw.info no es más que un diccionario:"
   ]
  },
  {
   "cell_type": "code",
   "execution_count": 13,
   "metadata": {},
   "outputs": [
    {
     "data": {
      "text/plain": [
       "True"
      ]
     },
     "execution_count": 13,
     "metadata": {},
     "output_type": "execute_result"
    }
   ],
   "source": [
    "isinstance(raw.info, dict)"
   ]
  },
  {
   "cell_type": "markdown",
   "metadata": {},
   "source": [
    "Por lo tanto, podemos acceder a sus elementos de esta forma:"
   ]
  },
  {
   "cell_type": "code",
   "execution_count": 14,
   "metadata": {},
   "outputs": [
    {
     "data": {
      "text/plain": [
       "1100.0"
      ]
     },
     "execution_count": 14,
     "metadata": {},
     "output_type": "execute_result"
    }
   ],
   "source": [
    "raw.info['sfreq']  # Frecuencia de muestreo"
   ]
  },
  {
   "cell_type": "code",
   "execution_count": 15,
   "metadata": {},
   "outputs": [
    {
     "data": {
      "text/plain": [
       "[]"
      ]
     },
     "execution_count": 15,
     "metadata": {},
     "output_type": "execute_result"
    }
   ],
   "source": [
    "raw.info['bads']  # lista de canales defectuosos"
   ]
  },
  {
   "cell_type": "code",
   "execution_count": 16,
   "metadata": {},
   "outputs": [
    {
     "data": {
      "text/plain": [
       "50.0"
      ]
     },
     "execution_count": 16,
     "metadata": {},
     "output_type": "execute_result"
    }
   ],
   "source": [
    "raw.info['line_freq']  # frecuencia del ruido de línea"
   ]
  },
  {
   "cell_type": "markdown",
   "metadata": {},
   "source": [
    "## Una mirada más cercana a los canales\n",
    "Ahora veamos qué canales están presentes. Esto lo podemos ver a través del atributo `raw.ch_names`."
   ]
  },
  {
   "cell_type": "code",
   "execution_count": 17,
   "metadata": {},
   "outputs": [
    {
     "data": {
      "text/plain": [
       "list"
      ]
     },
     "execution_count": 17,
     "metadata": {},
     "output_type": "execute_result"
    }
   ],
   "source": [
    "type(raw.ch_names)"
   ]
  },
  {
   "cell_type": "code",
   "execution_count": 18,
   "metadata": {},
   "outputs": [
    {
     "data": {
      "text/plain": [
       "['MEG0113',\n",
       " 'MEG0112',\n",
       " 'MEG0111',\n",
       " 'MEG0122',\n",
       " 'MEG0123',\n",
       " 'MEG0121',\n",
       " 'MEG0132',\n",
       " 'MEG0133',\n",
       " 'MEG0131',\n",
       " 'MEG0143']"
      ]
     },
     "execution_count": 18,
     "metadata": {},
     "output_type": "execute_result"
    }
   ],
   "source": [
    "raw.ch_names[:10]  # esto imprime los primeros 10 canales"
   ]
  },
  {
   "cell_type": "markdown",
   "metadata": {},
   "source": [
    "Podés indexarlos como una lista."
   ]
  },
  {
   "cell_type": "code",
   "execution_count": 19,
   "metadata": {},
   "outputs": [
    {
     "data": {
      "text/plain": [
       "'MEG0432'"
      ]
     },
     "execution_count": 19,
     "metadata": {},
     "output_type": "execute_result"
    }
   ],
   "source": [
    "raw.ch_names[42]"
   ]
  },
  {
   "cell_type": "markdown",
   "metadata": {},
   "source": [
    "También podemos consultar el tipo de canal de un canal específico:"
   ]
  },
  {
   "cell_type": "code",
   "execution_count": 20,
   "metadata": {},
   "outputs": [
    {
     "name": "stdout",
     "output_type": "stream",
     "text": [
      "Canal #75 es de tipo: grad\n",
      "Canal #320 es de tipo: eeg\n"
     ]
    }
   ],
   "source": [
    "channel_type = mne.io.pick.channel_type(raw.info, 75)\n",
    "print('Canal #75 es de tipo:', channel_type)  # para imprimir de manera ordenada\n",
    "\n",
    "channel_type = mne.io.pick.channel_type(raw.info, 320)\n",
    "print('Canal #320 es de tipo:', channel_type)"
   ]
  },
  {
   "cell_type": "markdown",
   "metadata": {},
   "source": [
    "La información también contiene todos los detalles sobre los sensores (tipo, ubicaciones, marco coordenado, etc.) en `chs`:"
   ]
  },
  {
   "cell_type": "code",
   "execution_count": 21,
   "metadata": {},
   "outputs": [
    {
     "data": {
      "text/plain": [
       "404"
      ]
     },
     "execution_count": 21,
     "metadata": {},
     "output_type": "execute_result"
    }
   ],
   "source": [
    "len(raw.info['chs'])"
   ]
  },
  {
   "cell_type": "code",
   "execution_count": 22,
   "metadata": {},
   "outputs": [
    {
     "data": {
      "text/plain": [
       "list"
      ]
     },
     "execution_count": 22,
     "metadata": {},
     "output_type": "execute_result"
    }
   ],
   "source": [
    "type(raw.info['chs'])"
   ]
  },
  {
   "cell_type": "code",
   "execution_count": 23,
   "metadata": {},
   "outputs": [
    {
     "data": {
      "text/plain": [
       "{'scanno': 1,\n",
       " 'logno': 113,\n",
       " 'kind': 1 (FIFFV_MEG_CH),\n",
       " 'range': 1.9073486328125e-05,\n",
       " 'cal': 3.250000046861601e-09,\n",
       " 'coil_type': 3012 (FIFFV_COIL_VV_PLANAR_T1),\n",
       " 'loc': array([-0.1066    ,  0.0464    , -0.0604    , -0.01532829,  0.00619847,\n",
       "        -0.99986327, -0.18597366, -0.98255992, -0.00331254, -0.98243302,\n",
       "         0.185894  ,  0.016216  ]),\n",
       " 'unit': 201 (FIFF_UNIT_T_M),\n",
       " 'unit_mul': 0 (FIFF_UNITM_NONE),\n",
       " 'ch_name': 'MEG0113',\n",
       " 'coord_frame': 1 (FIFFV_COORD_DEVICE)}"
      ]
     },
     "execution_count": 23,
     "metadata": {},
     "output_type": "execute_result"
    }
   ],
   "source": [
    "raw.info['chs'][0]  # chequeamos el primer canal"
   ]
  },
  {
   "cell_type": "code",
   "execution_count": 24,
   "metadata": {},
   "outputs": [
    {
     "data": {
      "text/plain": [
       "{'scanno': 331,\n",
       " 'logno': 25,\n",
       " 'kind': 2 (FIFFV_EEG_CH),\n",
       " 'range': 0.00030517578125,\n",
       " 'cal': 0.00019999999494757503,\n",
       " 'coil_type': 1 (FIFFV_COIL_EEG),\n",
       " 'loc': array([ 5.63842431e-02,  3.68367434e-02,  9.40217227e-02,  8.26010015e-04,\n",
       "         1.14762366e-01, -2.10680366e-02,  0.00000000e+00,  1.00000000e+00,\n",
       "         0.00000000e+00,  0.00000000e+00,  0.00000000e+00,  1.00000000e+00]),\n",
       " 'unit': 107 (FIFF_UNIT_V),\n",
       " 'unit_mul': 0 (FIFF_UNITM_NONE),\n",
       " 'ch_name': 'EEG025',\n",
       " 'coord_frame': 4 (FIFFV_COORD_HEAD)}"
      ]
     },
     "execution_count": 24,
     "metadata": {},
     "output_type": "execute_result"
    }
   ],
   "source": [
    "raw.info['chs'][330]"
   ]
  },
  {
   "cell_type": "markdown",
   "metadata": {},
   "source": [
    "Ahora que sabemos que hay canales de EEG y MEG en los datos, podemos graficar ambos por separado. Las posiciones de los canales están disponibles en el atributo info del objeto raw, por lo tanto, podemos graficar las ubicaciones de los mismos directamente desde el objeto raw utilizando `plot_sensors()`."
   ]
  },
  {
   "cell_type": "code",
   "execution_count": 25,
   "metadata": {},
   "outputs": [
    {
     "name": "stderr",
     "output_type": "stream",
     "text": [
      "C:\\Users\\admin\\AppData\\Local\\Temp\\ipykernel_13076\\2013439534.py:1: RuntimeWarning: (X, Y) fit (3.1, 32.2) more than 20 mm from head frame origin\n",
      "  raw.plot_sensors(kind='topomap', ch_type='grad');\n"
     ]
    },
    {
     "data": {
      "image/png": "[encoded data removed]",
      "text/plain": [
       "<Figure size 640x640 with 1 Axes>"
      ]
     },
     "metadata": {},
     "output_type": "display_data"
    }
   ],
   "source": [
    "raw.plot_sensors(kind='topomap', ch_type='grad');"
   ]
  },
  {
   "cell_type": "code",
   "execution_count": 26,
   "metadata": {},
   "outputs": [
    {
     "name": "stderr",
     "output_type": "stream",
     "text": [
      "C:\\Users\\admin\\AppData\\Local\\Temp\\ipykernel_13076\\265059241.py:1: RuntimeWarning: (X, Y) fit (3.1, 32.2) more than 20 mm from head frame origin\n",
      "  raw.plot_sensors(kind='topomap', ch_type='eeg');\n"
     ]
    },
    {
     "data": {
      "image/png": "[encoded data removed]",
      "text/plain": [
       "<Figure size 640x640 with 1 Axes>"
      ]
     },
     "metadata": {},
     "output_type": "display_data"
    }
   ],
   "source": [
    "raw.plot_sensors(kind='topomap', ch_type='eeg');"
   ]
  },
  {
   "cell_type": "markdown",
   "metadata": {},
   "source": [
    "## Configurando los tipos de canales y re-referenciando\n",
    "\n",
    "Algunos canales están definidos erróneamente como EEG en el archivo. \n",
    "Dos de ellos son de EOG (EEG061 y EEG062) y EEG063 es una canal de ECG. EEG064 estaba registrando pero no estaba conectado a nada así que lo haremos `'misc'` en su lugar. \n",
    "Ahora configuraremos los tipos de canales para aquellos canales clasificados incorrectamente. Esto será útil para el rechazo automático de artefactos."
   ]
  },
  {
   "cell_type": "code",
   "execution_count": 27,
   "metadata": {},
   "outputs": [
    {
     "name": "stdout",
     "output_type": "stream",
     "text": [
      "\u001b[1;31mSignature:\u001b[0m \u001b[0mraw\u001b[0m\u001b[1;33m.\u001b[0m\u001b[0mset_channel_types\u001b[0m\u001b[1;33m(\u001b[0m\u001b[0mmapping\u001b[0m\u001b[1;33m,\u001b[0m \u001b[1;33m*\u001b[0m\u001b[1;33m,\u001b[0m \u001b[0mon_unit_change\u001b[0m\u001b[1;33m=\u001b[0m\u001b[1;34m'warn'\u001b[0m\u001b[1;33m,\u001b[0m \u001b[0mverbose\u001b[0m\u001b[1;33m=\u001b[0m\u001b[1;32mNone\u001b[0m\u001b[1;33m)\u001b[0m\u001b[1;33m\u001b[0m\u001b[1;33m\u001b[0m\u001b[0m\n",
      "\u001b[1;31mDocstring:\u001b[0m\n",
      "Specify the sensor types of channels.\n",
      "\n",
      "Parameters\n",
      "----------\n",
      "mapping : dict\n",
      "    A dictionary mapping channel names to sensor types, e.g.,\n",
      "    ``{'EEG061': 'eog'}``.\n",
      "on_unit_change : ``'raise'`` | ``'warn'`` | ``'ignore'``\n",
      "    What to do if the measurement unit of a channel is changed\n",
      "    automatically to match the new sensor type.\n",
      "\n",
      "    .. versionadded:: 1.4\n",
      "\n",
      "verbose : bool | str | int | None\n",
      "    Control verbosity of the logging output. If ``None``, use the default\n",
      "    verbosity level. See the :ref:`logging documentation <tut-logging>` and\n",
      "    :func:`mne.verbose` for details. Should only be passed as a keyword\n",
      "    argument.\n",
      "\n",
      "Returns\n",
      "-------\n",
      "inst : instance of Raw | Epochs | Evoked\n",
      "    The instance (modified in place).\n",
      "\n",
      "    .. versionchanged:: 0.20\n",
      "       Return the instance.\n",
      "\n",
      "Notes\n",
      "-----\n",
      "The following sensor types are accepted:\n",
      "\n",
      "    ecg, eeg, emg, eog, exci, ias, misc, resp, seeg, dbs, stim, syst,\n",
      "    ecog, hbo, hbr, fnirs_cw_amplitude, fnirs_fd_ac_amplitude,\n",
      "    fnirs_fd_phase, fnirs_od, eyetrack_pos, eyetrack_pupil,\n",
      "    temperature, gsr\n",
      "\n",
      ".. versionadded:: 0.9.0\n",
      "\u001b[1;31mFile:\u001b[0m      c:\\users\\admin\\mne-python\\1.5.1_0\\lib\\site-packages\\mne\\io\\meas_info.py\n",
      "\u001b[1;31mType:\u001b[0m      method"
     ]
    }
   ],
   "source": [
    "raw.set_channel_types?"
   ]
  },
  {
   "cell_type": "code",
   "execution_count": 28,
   "metadata": {},
   "outputs": [
    {
     "name": "stderr",
     "output_type": "stream",
     "text": [
      "C:\\Users\\admin\\AppData\\Local\\Temp\\ipykernel_13076\\86333386.py:1: RuntimeWarning: The unit for channel(s) EEG064 has changed from V to NA.\n",
      "  raw.set_channel_types({'EEG061': 'eog',  #  EOG no EEG\n"
     ]
    },
    {
     "data": {
      "text/html": [
       "<table class=\"table table-hover table-striped table-sm table-responsive small\">\n",
       "    <tr>\n",
       "        <th>Measurement date</th>\n",
       "        \n",
       "        <td>March 22, 1941  11:04:14 GMT</td>\n",
       "        \n",
       "    </tr>\n",
       "    <tr>\n",
       "        <th>Experimenter</th>\n",
       "        \n",
       "        <td>MEG</td>\n",
       "        \n",
       "    </tr>\n",
       "        <th>Participant</th>\n",
       "        \n",
       "            \n",
       "        \n",
       "    </tr>\n",
       "    <tr>\n",
       "        <th>Digitized points</th>\n",
       "        \n",
       "        <td>137 points</td>\n",
       "        \n",
       "    </tr>\n",
       "    <tr>\n",
       "        <th>Good channels</th>\n",
       "        <td>204 Gradiometers, 102 Magnetometers, 70 EEG, 2 EOG, 1 ECG, 13 misc, 3 Stimulus, 9 CHPI</td>\n",
       "    </tr>\n",
       "    <tr>\n",
       "        <th>Bad channels</th>\n",
       "        <td>None</td>\n",
       "    </tr>\n",
       "    <tr>\n",
       "        <th>EOG channels</th>\n",
       "        <td>EOG061, EOG062</td>\n",
       "    </tr>\n",
       "    <tr>\n",
       "        <th>ECG channels</th>\n",
       "        <td>ECG063</td>\n",
       "    \n",
       "    <tr>\n",
       "        <th>Sampling frequency</th>\n",
       "        <td>1100.00 Hz</td>\n",
       "    </tr>\n",
       "    \n",
       "    \n",
       "    <tr>\n",
       "        <th>Highpass</th>\n",
       "        <td>0.00 Hz</td>\n",
       "    </tr>\n",
       "    \n",
       "    \n",
       "    <tr>\n",
       "        <th>Lowpass</th>\n",
       "        <td>356.40 Hz</td>\n",
       "    </tr>\n",
       "    \n",
       "    \n",
       "    \n",
       "    <tr>\n",
       "        <th>Filenames</th>\n",
       "        <td>sub-01_ses-meg_task-facerecognition_run-01_proc-sss_meg.fif</td>\n",
       "    </tr>\n",
       "    \n",
       "    <tr>\n",
       "        <th>Duration</th>\n",
       "        <td>00:08:11 (HH:MM:SS)</td>\n",
       "    </tr>\n",
       "</table>"
      ],
      "text/plain": [
       "<Raw | sub-01_ses-meg_task-facerecognition_run-01_proc-sss_meg.fif, 404 x 540100 (491.0 s), ~6.9 MB, data not loaded>"
      ]
     },
     "execution_count": 28,
     "metadata": {},
     "output_type": "execute_result"
    }
   ],
   "source": [
    "raw.set_channel_types({'EEG061': 'eog',  #  EOG no EEG\n",
    "                       'EEG062': 'eog',  #  EOG no EEG\n",
    "                       'EEG063': 'ecg',  #  ECG no EEG\n",
    "                       'EEG064': 'misc'})  # EEG064 no conectado\n",
    "\n",
    "# Renombramos los canales de EOG y ECG:\n",
    "raw.rename_channels({'EEG061': 'EOG061',\n",
    "                     'EEG062': 'EOG062',\n",
    "                     'EEG063': 'ECG063'})"
   ]
  },
  {
   "cell_type": "code",
   "execution_count": 29,
   "metadata": {},
   "outputs": [
    {
     "data": {
      "text/html": [
       "<table class=\"table table-hover table-striped table-sm table-responsive small\">\n",
       "    <tr>\n",
       "        <th>Measurement date</th>\n",
       "        \n",
       "        <td>March 22, 1941  11:04:14 GMT</td>\n",
       "        \n",
       "    </tr>\n",
       "    <tr>\n",
       "        <th>Experimenter</th>\n",
       "        \n",
       "        <td>MEG</td>\n",
       "        \n",
       "    </tr>\n",
       "        <th>Participant</th>\n",
       "        \n",
       "            \n",
       "        \n",
       "    </tr>\n",
       "    <tr>\n",
       "        <th>Digitized points</th>\n",
       "        \n",
       "        <td>137 points</td>\n",
       "        \n",
       "    </tr>\n",
       "    <tr>\n",
       "        <th>Good channels</th>\n",
       "        <td>204 Gradiometers, 102 Magnetometers, 70 EEG, 2 EOG, 1 ECG, 13 misc, 3 Stimulus, 9 CHPI</td>\n",
       "    </tr>\n",
       "    <tr>\n",
       "        <th>Bad channels</th>\n",
       "        <td>None</td>\n",
       "    </tr>\n",
       "    <tr>\n",
       "        <th>EOG channels</th>\n",
       "        <td>EOG061, EOG062</td>\n",
       "    </tr>\n",
       "    <tr>\n",
       "        <th>ECG channels</th>\n",
       "        <td>ECG063</td>\n",
       "    \n",
       "    <tr>\n",
       "        <th>Sampling frequency</th>\n",
       "        <td>1100.00 Hz</td>\n",
       "    </tr>\n",
       "    \n",
       "    \n",
       "    <tr>\n",
       "        <th>Highpass</th>\n",
       "        <td>0.00 Hz</td>\n",
       "    </tr>\n",
       "    \n",
       "    \n",
       "    <tr>\n",
       "        <th>Lowpass</th>\n",
       "        <td>356.40 Hz</td>\n",
       "    </tr>\n",
       "    \n",
       "    \n",
       "</table>"
      ],
      "text/plain": [
       "<Info | 23 non-empty values\n",
       " acq_pars: ACQch001 110113 ACQch002 110112 ACQch003 110111 ACQch004 110122 ...\n",
       " bads: []\n",
       " ch_names: MEG0113, MEG0112, MEG0111, MEG0122, MEG0123, MEG0121, MEG0132, ...\n",
       " chs: 204 Gradiometers, 102 Magnetometers, 70 EEG, 2 EOG, 1 ECG, 13 misc, 3 Stimulus, 9 CHPI\n",
       " custom_ref_applied: False\n",
       " description: (meg) Vectorview system at Cambridge\n",
       " dev_head_t: MEG device -> head transform\n",
       " dig: 137 items (3 Cardinal, 5 HPI, 75 EEG, 54 Extra)\n",
       " events: 1 item (list)\n",
       " experimenter: MEG\n",
       " file_id: 4 items (dict)\n",
       " highpass: 0.0 Hz\n",
       " hpi_meas: 1 item (list)\n",
       " hpi_results: 1 item (list)\n",
       " hpi_subsystem: 2 items (dict)\n",
       " line_freq: 50.0\n",
       " lowpass: 356.4 Hz\n",
       " meas_date: 1941-03-22 11:04:14 UTC\n",
       " meas_id: 4 items (dict)\n",
       " nchan: 404\n",
       " proc_history: 1 item (list)\n",
       " proj_id: 1 item (ndarray)\n",
       " proj_name: dgw_studies\n",
       " projs: []\n",
       " sfreq: 1100.0 Hz\n",
       " subject_info: 2 items (dict)\n",
       ">"
      ]
     },
     "execution_count": 29,
     "metadata": {},
     "output_type": "execute_result"
    }
   ],
   "source": [
    "raw.info"
   ]
  },
  {
   "cell_type": "code",
   "execution_count": 30,
   "metadata": {},
   "outputs": [
    {
     "name": "stderr",
     "output_type": "stream",
     "text": [
      "C:\\Users\\admin\\AppData\\Local\\Temp\\ipykernel_13076\\265059241.py:1: RuntimeWarning: (X, Y) fit (3.1, 32.2) more than 20 mm from head frame origin\n",
      "  raw.plot_sensors(kind='topomap', ch_type='eeg');\n"
     ]
    },
    {
     "data": {
      "image/png": "[encoded data removed]",
      "text/plain": [
       "<Figure size 640x640 with 1 Axes>"
      ]
     },
     "metadata": {},
     "output_type": "display_data"
    }
   ],
   "source": [
    "raw.plot_sensors(kind='topomap', ch_type='eeg');"
   ]
  },
  {
   "cell_type": "markdown",
   "metadata": {},
   "source": [
    "Una vez que hayamos arreglado los canales, podemos re-referenciar los canales de EEG al promedio de los mismos. "
   ]
  },
  {
   "cell_type": "code",
   "execution_count": 31,
   "metadata": {},
   "outputs": [
    {
     "name": "stdout",
     "output_type": "stream",
     "text": [
      "0 (FIFFV_MNE_CUSTOM_REF_OFF)\n"
     ]
    }
   ],
   "source": [
    "# Para configurar la referencia debemos cargar los datos en la memoria:\n",
    "raw.load_data()\n",
    "print(raw.info['custom_ref_applied'])  # veamos si existe una referencia"
   ]
  },
  {
   "cell_type": "code",
   "execution_count": 32,
   "metadata": {},
   "outputs": [
    {
     "name": "stdout",
     "output_type": "stream",
     "text": [
      "[]\n",
      "1 (FIFFV_MNE_CUSTOM_REF_ON)\n"
     ]
    }
   ],
   "source": [
    "# ahora re-referenciamos\n",
    "raw.set_eeg_reference(ref_channels='average', projection=False)\n",
    "print(raw.info['projs'])  # no agregado como proyección\n",
    "print(raw.info['custom_ref_applied'])"
   ]
  },
  {
   "cell_type": "markdown",
   "metadata": {},
   "source": [
    "## Accediendo a los datos\n",
    "\n",
    "Para acceder a los datos sólo debes utilizar `[]` tal como se accede a cualquier elemento de una lista, diccionario, etc. Vemos que `raw[]` devuelve dos cosas: los datos y un arreglo de instantes de tiempo."
   ]
  },
  {
   "cell_type": "code",
   "execution_count": 33,
   "metadata": {},
   "outputs": [
    {
     "name": "stdout",
     "output_type": "stream",
     "text": [
      "(404, 10)\n",
      "(10,)\n"
     ]
    }
   ],
   "source": [
    "start, stop = 0, 10\n",
    "data, times = raw[:, start:stop]  # acceder a todos los canales para los primeros 10 instantes de tiempo\n",
    "print(data.shape)\n",
    "print(times.shape)"
   ]
  },
  {
   "cell_type": "code",
   "execution_count": 34,
   "metadata": {},
   "outputs": [
    {
     "data": {
      "text/plain": [
       "array([0.        , 0.00090909, 0.00181818, 0.00272727, 0.00363636,\n",
       "       0.00454545, 0.00545455, 0.00636364, 0.00727273, 0.00818182])"
      ]
     },
     "execution_count": 34,
     "metadata": {},
     "output_type": "execute_result"
    }
   ],
   "source": [
    "times  # siempre comienzan en 0 por convención"
   ]
  },
  {
   "cell_type": "markdown",
   "metadata": {},
   "source": [
    "Vimos que `raw[]` devuelve ambas cosas, los datos y los instantes de tiempo."
   ]
  },
  {
   "cell_type": "markdown",
   "metadata": {},
   "source": [
    "## Remuestreando los datos\n",
    "\n",
    "Ahora cambiaremos la frecuencia de muestreo de los datos para acelerar los cálculos.."
   ]
  },
  {
   "cell_type": "code",
   "execution_count": 35,
   "metadata": {},
   "outputs": [
    {
     "data": {
      "text/html": [
       "<table class=\"table table-hover table-striped table-sm table-responsive small\">\n",
       "    <tr>\n",
       "        <th>Measurement date</th>\n",
       "        \n",
       "        <td>March 22, 1941  11:04:14 GMT</td>\n",
       "        \n",
       "    </tr>\n",
       "    <tr>\n",
       "        <th>Experimenter</th>\n",
       "        \n",
       "        <td>MEG</td>\n",
       "        \n",
       "    </tr>\n",
       "        <th>Participant</th>\n",
       "        \n",
       "            \n",
       "        \n",
       "    </tr>\n",
       "    <tr>\n",
       "        <th>Digitized points</th>\n",
       "        \n",
       "        <td>137 points</td>\n",
       "        \n",
       "    </tr>\n",
       "    <tr>\n",
       "        <th>Good channels</th>\n",
       "        <td>204 Gradiometers, 102 Magnetometers, 70 EEG, 2 EOG, 1 ECG, 13 misc, 3 Stimulus, 9 CHPI</td>\n",
       "    </tr>\n",
       "    <tr>\n",
       "        <th>Bad channels</th>\n",
       "        <td>None</td>\n",
       "    </tr>\n",
       "    <tr>\n",
       "        <th>EOG channels</th>\n",
       "        <td>EOG061, EOG062</td>\n",
       "    </tr>\n",
       "    <tr>\n",
       "        <th>ECG channels</th>\n",
       "        <td>ECG063</td>\n",
       "    \n",
       "    <tr>\n",
       "        <th>Sampling frequency</th>\n",
       "        <td>300.00 Hz</td>\n",
       "    </tr>\n",
       "    \n",
       "    \n",
       "    <tr>\n",
       "        <th>Highpass</th>\n",
       "        <td>0.00 Hz</td>\n",
       "    </tr>\n",
       "    \n",
       "    \n",
       "    <tr>\n",
       "        <th>Lowpass</th>\n",
       "        <td>150.00 Hz</td>\n",
       "    </tr>\n",
       "    \n",
       "    \n",
       "    \n",
       "    <tr>\n",
       "        <th>Filenames</th>\n",
       "        <td>sub-01_ses-meg_task-facerecognition_run-01_proc-sss_meg.fif</td>\n",
       "    </tr>\n",
       "    \n",
       "    <tr>\n",
       "        <th>Duration</th>\n",
       "        <td>00:08:11 (HH:MM:SS)</td>\n",
       "    </tr>\n",
       "</table>"
      ],
      "text/plain": [
       "<Raw | sub-01_ses-meg_task-facerecognition_run-01_proc-sss_meg.fif, 404 x 147300 (491.0 s), ~460.9 MB, data loaded>"
      ]
     },
     "execution_count": 35,
     "metadata": {},
     "output_type": "execute_result"
    }
   ],
   "source": [
    "raw.load_data()  # cargar datos en memoria\n",
    "raw.resample(300)"
   ]
  },
  {
   "cell_type": "markdown",
   "metadata": {},
   "source": [
    "Y eliminemos los canales innecesarios: algunos canales de estímulo vacíos, canales misc y canales HPI."
   ]
  },
  {
   "cell_type": "code",
   "execution_count": 36,
   "metadata": {},
   "outputs": [
    {
     "name": "stdout",
     "output_type": "stream",
     "text": [
      "\u001b[1;31mSignature:\u001b[0m \u001b[0mraw\u001b[0m\u001b[1;33m.\u001b[0m\u001b[0mdrop_channels\u001b[0m\u001b[1;33m(\u001b[0m\u001b[0mch_names\u001b[0m\u001b[1;33m,\u001b[0m \u001b[0mon_missing\u001b[0m\u001b[1;33m=\u001b[0m\u001b[1;34m'raise'\u001b[0m\u001b[1;33m)\u001b[0m\u001b[1;33m\u001b[0m\u001b[1;33m\u001b[0m\u001b[0m\n",
      "\u001b[1;31mDocstring:\u001b[0m\n",
      "Drop channel(s).\n",
      "\n",
      "Parameters\n",
      "----------\n",
      "ch_names : iterable or str\n",
      "    Iterable (e.g. list) of channel name(s) or channel name to remove.\n",
      "\n",
      "on_missing : 'raise' | 'warn' | 'ignore'\n",
      "    Can be ``'raise'`` (default) to raise an error, ``'warn'`` to emit a\n",
      "    warning, or ``'ignore'`` to ignore when entries in ch_names are not present in the raw instance.\n",
      "\n",
      "    .. versionadded:: 0.23.0\n",
      "\n",
      "Returns\n",
      "-------\n",
      "inst : instance of Raw, Epochs, or Evoked\n",
      "    The modified instance.\n",
      "\n",
      "See Also\n",
      "--------\n",
      "reorder_channels\n",
      "pick_channels\n",
      "pick_types\n",
      "\n",
      "Notes\n",
      "-----\n",
      ".. versionadded:: 0.9.0\n",
      "\u001b[1;31mFile:\u001b[0m      c:\\users\\admin\\mne-python\\1.5.1_0\\lib\\site-packages\\mne\\channels\\channels.py\n",
      "\u001b[1;31mType:\u001b[0m      method"
     ]
    }
   ],
   "source": [
    "raw.drop_channels?"
   ]
  },
  {
   "cell_type": "code",
   "execution_count": 37,
   "metadata": {},
   "outputs": [],
   "source": [
    "to_drop = ['STI201', 'STI301', 'MISC201', 'MISC202', 'MISC203',\n",
    "           'MISC204', 'MISC205', 'MISC206', 'MISC301', 'MISC302',\n",
    "           'MISC303', 'MISC304', 'MISC305', 'MISC306', 'CHPI001',\n",
    "           'CHPI002', 'CHPI003', 'CHPI004', 'CHPI005', 'CHPI006',\n",
    "           'CHPI007', 'CHPI008', 'CHPI009']"
   ]
  },
  {
   "cell_type": "code",
   "execution_count": 38,
   "metadata": {},
   "outputs": [
    {
     "data": {
      "text/html": [
       "<table class=\"table table-hover table-striped table-sm table-responsive small\">\n",
       "    <tr>\n",
       "        <th>Measurement date</th>\n",
       "        \n",
       "        <td>March 22, 1941  11:04:14 GMT</td>\n",
       "        \n",
       "    </tr>\n",
       "    <tr>\n",
       "        <th>Experimenter</th>\n",
       "        \n",
       "        <td>MEG</td>\n",
       "        \n",
       "    </tr>\n",
       "        <th>Participant</th>\n",
       "        \n",
       "            \n",
       "        \n",
       "    </tr>\n",
       "    <tr>\n",
       "        <th>Digitized points</th>\n",
       "        \n",
       "        <td>137 points</td>\n",
       "        \n",
       "    </tr>\n",
       "    <tr>\n",
       "        <th>Good channels</th>\n",
       "        <td>204 Gradiometers, 102 Magnetometers, 70 EEG, 2 EOG, 1 ECG, 1 misc, 1 Stimulus</td>\n",
       "    </tr>\n",
       "    <tr>\n",
       "        <th>Bad channels</th>\n",
       "        <td>None</td>\n",
       "    </tr>\n",
       "    <tr>\n",
       "        <th>EOG channels</th>\n",
       "        <td>EOG061, EOG062</td>\n",
       "    </tr>\n",
       "    <tr>\n",
       "        <th>ECG channels</th>\n",
       "        <td>ECG063</td>\n",
       "    \n",
       "    <tr>\n",
       "        <th>Sampling frequency</th>\n",
       "        <td>300.00 Hz</td>\n",
       "    </tr>\n",
       "    \n",
       "    \n",
       "    <tr>\n",
       "        <th>Highpass</th>\n",
       "        <td>0.00 Hz</td>\n",
       "    </tr>\n",
       "    \n",
       "    \n",
       "    <tr>\n",
       "        <th>Lowpass</th>\n",
       "        <td>150.00 Hz</td>\n",
       "    </tr>\n",
       "    \n",
       "    \n",
       "    \n",
       "    <tr>\n",
       "        <th>Filenames</th>\n",
       "        <td>sub-01_ses-meg_task-facerecognition_run-01_proc-sss_meg.fif</td>\n",
       "    </tr>\n",
       "    \n",
       "    <tr>\n",
       "        <th>Duration</th>\n",
       "        <td>00:08:11 (HH:MM:SS)</td>\n",
       "    </tr>\n",
       "</table>"
      ],
      "text/plain": [
       "<Raw | sub-01_ses-meg_task-facerecognition_run-01_proc-sss_meg.fif, 381 x 147300 (491.0 s), ~435.1 MB, data loaded>"
      ]
     },
     "execution_count": 38,
     "metadata": {},
     "output_type": "execute_result"
    }
   ],
   "source": [
    "raw.drop_channels(to_drop)"
   ]
  },
  {
   "cell_type": "markdown",
   "metadata": {},
   "source": [
    "## Filtrando los datos y graficando los datos crudos\n",
    "\n",
    "Filtraremos los datos entre 0 y 40 Hz utilizando un filtro de respuesta finita al impulso (FIR) de fase lineal."
   ]
  },
  {
   "cell_type": "markdown",
   "metadata": {},
   "source": [
    "<div class=\"alert alert-success\">\n",
    "    <b>EJERCICIO</b>:\n",
    "     <ul>\n",
    "      <li>¿Qué parámetros debemos configurar para realizar dicho filtrado, basándonos en la documentación del método `filter`?</li>\n",
    "    </ul>\n",
    "</div>\n"
   ]
  },
  {
   "cell_type": "code",
   "execution_count": 39,
   "metadata": {},
   "outputs": [
    {
     "name": "stdout",
     "output_type": "stream",
     "text": [
      "\u001b[1;31mSignature:\u001b[0m\n",
      "\u001b[0mraw\u001b[0m\u001b[1;33m.\u001b[0m\u001b[0mfilter\u001b[0m\u001b[1;33m(\u001b[0m\u001b[1;33m\n",
      "\u001b[0m    \u001b[0ml_freq\u001b[0m\u001b[1;33m,\u001b[0m\u001b[1;33m\n",
      "\u001b[0m    \u001b[0mh_freq\u001b[0m\u001b[1;33m,\u001b[0m\u001b[1;33m\n",
      "\u001b[0m    \u001b[0mpicks\u001b[0m\u001b[1;33m=\u001b[0m\u001b[1;32mNone\u001b[0m\u001b[1;33m,\u001b[0m\u001b[1;33m\n",
      "\u001b[0m    \u001b[0mfilter_length\u001b[0m\u001b[1;33m=\u001b[0m\u001b[1;34m'auto'\u001b[0m\u001b[1;33m,\u001b[0m\u001b[1;33m\n",
      "\u001b[0m    \u001b[0ml_trans_bandwidth\u001b[0m\u001b[1;33m=\u001b[0m\u001b[1;34m'auto'\u001b[0m\u001b[1;33m,\u001b[0m\u001b[1;33m\n",
      "\u001b[0m    \u001b[0mh_trans_bandwidth\u001b[0m\u001b[1;33m=\u001b[0m\u001b[1;34m'auto'\u001b[0m\u001b[1;33m,\u001b[0m\u001b[1;33m\n",
      "\u001b[0m    \u001b[0mn_jobs\u001b[0m\u001b[1;33m=\u001b[0m\u001b[1;32mNone\u001b[0m\u001b[1;33m,\u001b[0m\u001b[1;33m\n",
      "\u001b[0m    \u001b[0mmethod\u001b[0m\u001b[1;33m=\u001b[0m\u001b[1;34m'fir'\u001b[0m\u001b[1;33m,\u001b[0m\u001b[1;33m\n",
      "\u001b[0m    \u001b[0miir_params\u001b[0m\u001b[1;33m=\u001b[0m\u001b[1;32mNone\u001b[0m\u001b[1;33m,\u001b[0m\u001b[1;33m\n",
      "\u001b[0m    \u001b[0mphase\u001b[0m\u001b[1;33m=\u001b[0m\u001b[1;34m'zero'\u001b[0m\u001b[1;33m,\u001b[0m\u001b[1;33m\n",
      "\u001b[0m    \u001b[0mfir_window\u001b[0m\u001b[1;33m=\u001b[0m\u001b[1;34m'hamming'\u001b[0m\u001b[1;33m,\u001b[0m\u001b[1;33m\n",
      "\u001b[0m    \u001b[0mfir_design\u001b[0m\u001b[1;33m=\u001b[0m\u001b[1;34m'firwin'\u001b[0m\u001b[1;33m,\u001b[0m\u001b[1;33m\n",
      "\u001b[0m    \u001b[0mskip_by_annotation\u001b[0m\u001b[1;33m=\u001b[0m\u001b[1;33m(\u001b[0m\u001b[1;34m'edge'\u001b[0m\u001b[1;33m,\u001b[0m \u001b[1;34m'bad_acq_skip'\u001b[0m\u001b[1;33m)\u001b[0m\u001b[1;33m,\u001b[0m\u001b[1;33m\n",
      "\u001b[0m    \u001b[0mpad\u001b[0m\u001b[1;33m=\u001b[0m\u001b[1;34m'reflect_limited'\u001b[0m\u001b[1;33m,\u001b[0m\u001b[1;33m\n",
      "\u001b[0m    \u001b[0mverbose\u001b[0m\u001b[1;33m=\u001b[0m\u001b[1;32mNone\u001b[0m\u001b[1;33m,\u001b[0m\u001b[1;33m\n",
      "\u001b[0m\u001b[1;33m)\u001b[0m\u001b[1;33m\u001b[0m\u001b[1;33m\u001b[0m\u001b[0m\n",
      "\u001b[1;31mDocstring:\u001b[0m\n",
      "Filter a subset of channels.\n",
      "\n",
      "Parameters\n",
      "----------\n",
      "\n",
      "l_freq : float | None\n",
      "    For FIR filters, the lower pass-band edge; for IIR filters, the lower\n",
      "    cutoff frequency. If None the data are only low-passed.\n",
      "\n",
      "h_freq : float | None\n",
      "    For FIR filters, the upper pass-band edge; for IIR filters, the upper\n",
      "    cutoff frequency. If None the data are only high-passed.\n",
      "picks : str | array-like | slice | None\n",
      "    Channels to include. Slices and lists of integers will be interpreted as \n",
      "    channel indices. In lists, channel *type* strings (e.g., ``['meg', \n",
      "    'eeg']``) will pick channels of those types, channel *name* strings (e.g., \n",
      "    ``['MEG0111', 'MEG2623']`` will pick the given channels. Can also be the \n",
      "    string values \"all\" to pick all channels, or \"data\" to pick :term:`data \n",
      "    channels`. None (default) will pick all data channels. Note that channels \n",
      "    in ``info['bads']`` *will be included* if their names or indices are \n",
      "    explicitly provided.\n",
      "\n",
      "filter_length : str | int\n",
      "    Length of the FIR filter to use (if applicable):\n",
      "\n",
      "    * **'auto' (default)**: The filter length is chosen based\n",
      "      on the size of the transition regions (6.6 times the reciprocal\n",
      "      of the shortest transition band for fir_window='hamming'\n",
      "      and fir_design=\"firwin2\", and half that for \"firwin\").\n",
      "    * **str**: A human-readable time in\n",
      "      units of \"s\" or \"ms\" (e.g., \"10s\" or \"5500ms\") will be\n",
      "      converted to that number of samples if ``phase=\"zero\"``, or\n",
      "      the shortest power-of-two length at least that duration for\n",
      "      ``phase=\"zero-double\"``.\n",
      "    * **int**: Specified length in samples. For fir_design=\"firwin\",\n",
      "      this should not be used.\n",
      "\n",
      "l_trans_bandwidth : float | str\n",
      "    Width of the transition band at the low cut-off frequency in Hz\n",
      "    (high pass or cutoff 1 in bandpass). Can be \"auto\"\n",
      "    (default) to use a multiple of ``l_freq``::\n",
      "\n",
      "        min(max(l_freq * 0.25, 2), l_freq)\n",
      "\n",
      "    Only used for ``method='fir'``.\n",
      "\n",
      "h_trans_bandwidth : float | str\n",
      "    Width of the transition band at the high cut-off frequency in Hz\n",
      "    (low pass or cutoff 2 in bandpass). Can be \"auto\"\n",
      "    (default in 0.14) to use a multiple of ``h_freq``::\n",
      "\n",
      "        min(max(h_freq * 0.25, 2.), info['sfreq'] / 2. - h_freq)\n",
      "\n",
      "    Only used for ``method='fir'``.\n",
      "\n",
      "n_jobs : int | str\n",
      "    Number of jobs to run in parallel. Can be 'cuda' if ``cupy``\n",
      "    is installed properly and method='fir'.\n",
      "\n",
      "method : str\n",
      "    'fir' will use overlap-add FIR filtering, 'iir' will use IIR\n",
      "    forward-backward filtering (via filtfilt).\n",
      "\n",
      "iir_params : dict | None\n",
      "    Dictionary of parameters to use for IIR filtering.\n",
      "    If iir_params is None and method=\"iir\", 4th order Butterworth will be used.\n",
      "    For more information, see :func:`mne.filter.construct_iir_filter`.\n",
      "\n",
      "phase : str\n",
      "    Phase of the filter.\n",
      "    When ``method='fir'``, symmetric linear-phase FIR filters are constructed,\n",
      "    and if ``phase='zero'`` (default), the delay of this filter is compensated\n",
      "    for, making it non-causal. If ``phase='zero-double'``,\n",
      "    then this filter is applied twice, once forward, and once backward\n",
      "    (also making it non-causal). If ``'minimum'``, then a minimum-phase filter\n",
      "    will be constructed and applied, which is causal but has weaker stop-band\n",
      "    suppression.\n",
      "    When ``method='iir'``, ``phase='zero'`` (default) or\n",
      "    ``phase='zero-double'`` constructs and applies IIR filter twice, once\n",
      "    forward, and once backward (making it non-causal) using filtfilt.\n",
      "    If ``phase='forward'``, it constructs and applies forward IIR filter using\n",
      "    lfilter.\n",
      "\n",
      "    .. versionadded:: 0.13\n",
      "\n",
      "fir_window : str\n",
      "    The window to use in FIR design, can be \"hamming\" (default),\n",
      "    \"hann\" (default in 0.13), or \"blackman\".\n",
      "\n",
      "    .. versionadded:: 0.15\n",
      "\n",
      "fir_design : str\n",
      "    Can be \"firwin\" (default) to use :func:`scipy.signal.firwin`,\n",
      "    or \"firwin2\" to use :func:`scipy.signal.firwin2`. \"firwin\" uses\n",
      "    a time-domain design technique that generally gives improved\n",
      "    attenuation using fewer samples than \"firwin2\".\n",
      "\n",
      "    .. versionadded:: 0.15\n",
      "\n",
      "skip_by_annotation : str | list of str\n",
      "    If a string (or list of str), any annotation segment that begins\n",
      "    with the given string will not be included in filtering, and\n",
      "    segments on either side of the given excluded annotated segment\n",
      "    will be filtered separately (i.e., as independent signals).\n",
      "    The default (``('edge', 'bad_acq_skip')`` will separately filter\n",
      "    any segments that were concatenated by :func:`mne.concatenate_raws`\n",
      "    or :meth:`mne.io.Raw.append`, or separated during acquisition.\n",
      "    To disable, provide an empty list. Only used if ``inst`` is raw.\n",
      "\n",
      "    .. versionadded:: 0.16.\n",
      "\n",
      "pad : str\n",
      "    The type of padding to use. Supports all :func:`numpy.pad` ``mode``\n",
      "    options. Can also be ``\"reflect_limited\"``, which pads with a\n",
      "    reflected version of each vector mirrored on the first and last values\n",
      "    of the vector, followed by zeros.\n",
      "\n",
      "    Only used for ``method='fir'``.\n",
      "\n",
      "verbose : bool | str | int | None\n",
      "    Control verbosity of the logging output. If ``None``, use the default\n",
      "    verbosity level. See the :ref:`logging documentation <tut-logging>` and\n",
      "    :func:`mne.verbose` for details. Should only be passed as a keyword\n",
      "    argument.\n",
      "\n",
      "Returns\n",
      "-------\n",
      "inst : instance of Epochs, Evoked, or Raw\n",
      "    The filtered data.\n",
      "\n",
      "See Also\n",
      "--------\n",
      "mne.filter.create_filter\n",
      "mne.Evoked.savgol_filter\n",
      "mne.io.Raw.notch_filter\n",
      "mne.io.Raw.resample\n",
      "mne.filter.create_filter\n",
      "mne.filter.filter_data\n",
      "mne.filter.construct_iir_filter\n",
      "\n",
      "Notes\n",
      "-----\n",
      "Applies a zero-phase low-pass, high-pass, band-pass, or band-stop\n",
      "filter to the channels selected by ``picks``.\n",
      "The data are modified inplace.\n",
      "\n",
      "The object has to have the data loaded e.g. with ``preload=True``\n",
      "or ``self.load_data()``.\n",
      "\n",
      "``l_freq`` and ``h_freq`` are the frequencies below which and above\n",
      "which, respectively, to filter out of the data. Thus the uses are:\n",
      "\n",
      "    * ``l_freq < h_freq``: band-pass filter\n",
      "    * ``l_freq > h_freq``: band-stop filter\n",
      "    * ``l_freq is not None and h_freq is None``: high-pass filter\n",
      "    * ``l_freq is None and h_freq is not None``: low-pass filter\n",
      "\n",
      "``self.info['lowpass']`` and ``self.info['highpass']`` are only\n",
      "updated with picks=None.\n",
      "\n",
      ".. note:: If n_jobs > 1, more memory is required as\n",
      "          ``len(picks) * n_times`` additional time points need to\n",
      "          be temporarily stored in memory.\n",
      "\n",
      "For more information, see the tutorials\n",
      ":ref:`disc-filtering` and :ref:`tut-filter-resample` and\n",
      ":func:`mne.filter.create_filter`.\n",
      "\n",
      ".. versionadded:: 0.15\n",
      "\u001b[1;31mFile:\u001b[0m      c:\\users\\admin\\mne-python\\1.5.1_0\\lib\\site-packages\\mne\\io\\base.py\n",
      "\u001b[1;31mType:\u001b[0m      method"
     ]
    }
   ],
   "source": [
    "raw.filter?"
   ]
  },
  {
   "cell_type": "markdown",
   "metadata": {},
   "source": [
    "Para ver qué efecto tiene el filtrado en nuestros datos, primero grafiquemoslos rápidamente. Para una funcionalidad completa, le pedimos a matplotlib que muestre el gráfico en una ventana separada."
   ]
  },
  {
   "cell_type": "code",
   "execution_count": 40,
   "metadata": {},
   "outputs": [
    {
     "data": {
      "text/plain": [
       "<mne_qt_browser._pg_figure.MNEQtBrowser at 0x1b9e32396c0>"
      ]
     },
     "execution_count": 40,
     "metadata": {},
     "output_type": "execute_result"
    }
   ],
   "source": [
    "%matplotlib qt\n",
    "raw.plot()"
   ]
  },
  {
   "cell_type": "code",
   "execution_count": 41,
   "metadata": {},
   "outputs": [
    {
     "data": {
      "text/html": [
       "<table class=\"table table-hover table-striped table-sm table-responsive small\">\n",
       "    <tr>\n",
       "        <th>Measurement date</th>\n",
       "        \n",
       "        <td>March 22, 1941  11:04:14 GMT</td>\n",
       "        \n",
       "    </tr>\n",
       "    <tr>\n",
       "        <th>Experimenter</th>\n",
       "        \n",
       "        <td>MEG</td>\n",
       "        \n",
       "    </tr>\n",
       "        <th>Participant</th>\n",
       "        \n",
       "            \n",
       "        \n",
       "    </tr>\n",
       "    <tr>\n",
       "        <th>Digitized points</th>\n",
       "        \n",
       "        <td>137 points</td>\n",
       "        \n",
       "    </tr>\n",
       "    <tr>\n",
       "        <th>Good channels</th>\n",
       "        <td>204 Gradiometers, 102 Magnetometers, 70 EEG, 2 EOG, 1 ECG, 1 misc, 1 Stimulus</td>\n",
       "    </tr>\n",
       "    <tr>\n",
       "        <th>Bad channels</th>\n",
       "        <td>None</td>\n",
       "    </tr>\n",
       "    <tr>\n",
       "        <th>EOG channels</th>\n",
       "        <td>EOG061, EOG062</td>\n",
       "    </tr>\n",
       "    <tr>\n",
       "        <th>ECG channels</th>\n",
       "        <td>ECG063</td>\n",
       "    \n",
       "    <tr>\n",
       "        <th>Sampling frequency</th>\n",
       "        <td>300.00 Hz</td>\n",
       "    </tr>\n",
       "    \n",
       "    \n",
       "    <tr>\n",
       "        <th>Highpass</th>\n",
       "        <td>0.00 Hz</td>\n",
       "    </tr>\n",
       "    \n",
       "    \n",
       "    <tr>\n",
       "        <th>Lowpass</th>\n",
       "        <td>40.00 Hz</td>\n",
       "    </tr>\n",
       "    \n",
       "    \n",
       "    \n",
       "    <tr>\n",
       "        <th>Filenames</th>\n",
       "        <td>sub-01_ses-meg_task-facerecognition_run-01_proc-sss_meg.fif</td>\n",
       "    </tr>\n",
       "    \n",
       "    <tr>\n",
       "        <th>Duration</th>\n",
       "        <td>00:08:11 (HH:MM:SS)</td>\n",
       "    </tr>\n",
       "</table>"
      ],
      "text/plain": [
       "<Raw | sub-01_ses-meg_task-facerecognition_run-01_proc-sss_meg.fif, 381 x 147300 (491.0 s), ~435.1 MB, data loaded>"
      ]
     },
     "execution_count": 41,
     "metadata": {},
     "output_type": "execute_result"
    }
   ],
   "source": [
    "raw.filter(0, 40)"
   ]
  },
  {
   "cell_type": "markdown",
   "metadata": {},
   "source": [
    "Ahora que filtramos nuestros datos, veámoslos nuevamente. ¿Podés ver la diferencia?"
   ]
  },
  {
   "cell_type": "code",
   "execution_count": 42,
   "metadata": {},
   "outputs": [
    {
     "data": {
      "text/plain": [
       "<mne_qt_browser._pg_figure.MNEQtBrowser at 0x1b9e51c6440>"
      ]
     },
     "execution_count": 42,
     "metadata": {},
     "output_type": "execute_result"
    }
   ],
   "source": [
    "raw.plot()"
   ]
  },
  {
   "cell_type": "markdown",
   "metadata": {},
   "source": [
    "<div class=\"alert alert-success\">\n",
    "    <b>EJERCICIO</b>:\n",
    "     <ul>\n",
    "      <li> ¿Qué señales cambiaron más debido al fitrado: EEG o MEG?</li>\n",
    "      <li> ¿A qué podría deberse?</li>\n",
    "      <li> ¿Observaste algún canal defectuoso?</li>\n",
    "      <li> ¿Cuáles son las características más relevantes que podés observar en los datos?</li>\n",
    "       </ul>\n",
    "</div>"
   ]
  },
  {
   "cell_type": "markdown",
   "metadata": {},
   "source": [
    "Para obtener más información sobre la visualización de datos crudos, consultá aquí: \n",
    "https://mne.tools/0.16/auto_tutorials/plot_visualize_raw.html\n"
   ]
  },
  {
   "cell_type": "markdown",
   "metadata": {},
   "source": [
    "## Una mirada a la estructura de eventos de los datos\n",
    "\n",
    "Los datos tienen diferentes eventos que marcan qué estímulo se presentó a los participantes. La estructura de evento/trigger es la siguiente:\n",
    "- 5, 6, 7: rostros famosos\n",
    "- 13, 14, 15: rostros no familiares\n",
    "- 17, 18, 19: rostros mezclados"
   ]
  },
  {
   "cell_type": "markdown",
   "metadata": {},
   "source": [
    "Primero veamos qué eventos hay:"
   ]
  },
  {
   "cell_type": "code",
   "execution_count": 43,
   "metadata": {},
   "outputs": [
    {
     "name": "stdout",
     "output_type": "stream",
     "text": [
      "259 events found\n",
      "Event IDs: [   5    6    7   13   14   15   17   18   19  256  261  262  263  269\n",
      "  270  271  273  274  275 4096 4101 4102 4103 4109 4110 4111 4113 4114\n",
      " 4115 4352]\n"
     ]
    }
   ],
   "source": [
    "events = mne.find_events(raw, stim_channel='STI101', verbose=True)"
   ]
  },
  {
   "cell_type": "code",
   "execution_count": 44,
   "metadata": {},
   "outputs": [
    {
     "data": {
      "text/plain": [
       "array([[ 75052,      0,     13],\n",
       "       [ 75336,      0,    256],\n",
       "       [ 75964,      0,     14],\n",
       "       [ 76158,     14,    270],\n",
       "       [ 76896,      0,     13],\n",
       "       [ 77798,      0,     13],\n",
       "       [ 78755,      0,      5],\n",
       "       [ 78984,      5,   4101],\n",
       "       [ 79662,      0,     13],\n",
       "       [ 80629,      0,      5],\n",
       "       [ 80854,      5,   4101],\n",
       "       [ 81602,      0,     17],\n",
       "       [ 82529,      0,     15],\n",
       "       [ 83506,      0,      5],\n",
       "       [ 83720,      5,   4101],\n",
       "       [ 84453,      0,     15],\n",
       "       [ 85430,      0,     13],\n",
       "       [ 85652,     13,    269],\n",
       "       [ 86363,      0,     14],\n",
       "       [ 86645,     14,    270],\n",
       "       [ 87320,      0,      7],\n",
       "       [ 87529,      7,   4103],\n",
       "       [ 88317,      0,      5],\n",
       "       [ 88593,      5,   4101],\n",
       "       [ 89269,      0,     15],\n",
       "       [ 89488,     15,   4111],\n",
       "       [ 90217,      0,     17],\n",
       "       [ 90499,     17,    273],\n",
       "       [ 91209,      0,     18],\n",
       "       [ 91433,     18,    274],\n",
       "       [ 92146,      0,      7],\n",
       "       [ 92342,      7,   4103],\n",
       "       [ 93138,      0,     17],\n",
       "       [ 93474,      0,    256],\n",
       "       [ 94115,      0,     18],\n",
       "       [ 95058,      0,     19],\n",
       "       [ 95955,      0,      5],\n",
       "       [ 96232,      0,    256],\n",
       "       [ 96912,      0,      7],\n",
       "       [ 97090,      7,   4103],\n",
       "       [ 97854,      0,      5],\n",
       "       [ 98072,      5,   4101],\n",
       "       [ 98826,      0,      6],\n",
       "       [ 99012,      6,   4102],\n",
       "       [ 99758,      0,     17],\n",
       "       [100013,      0,    256],\n",
       "       [100711,      0,      7],\n",
       "       [100947,      7,    263],\n",
       "       [101688,      0,     13],\n",
       "       [101913,     13,    269],\n",
       "       [102630,      0,     13],\n",
       "       [103572,      0,     14],\n",
       "       [103758,     14,    270],\n",
       "       [104479,      0,     17],\n",
       "       [104730,     17,    273],\n",
       "       [105412,      0,      7],\n",
       "       [105615,      7,   4103],\n",
       "       [106364,      0,     17],\n",
       "       [106722,      0,   4096],\n",
       "       [107316,      0,     18],\n",
       "       [107623,      0,    256],\n",
       "       [108313,      0,     13],\n",
       "       [108571,      0,   4096],\n",
       "       [109250,      0,     14],\n",
       "       [109526,      0,   4096],\n",
       "       [110218,      0,     19],\n",
       "       [110485,      0,    256],\n",
       "       [111175,      0,     17],\n",
       "       [111424,     17,   4113],\n",
       "       [112112,      0,     18],\n",
       "       [112412,      0,   4096],\n",
       "       [113059,      0,     15],\n",
       "       [113350,     15,   4111],\n",
       "       [113382,   4096,   4352],\n",
       "       [114067,      0,     13],\n",
       "       [114339,      0,    256],\n",
       "       [115019,      0,     14],\n",
       "       [115186,     14,    270],\n",
       "       [115941,      0,     17],\n",
       "       [116188,     17,    273],\n",
       "       [116913,      0,     18],\n",
       "       [117134,     18,   4114],\n",
       "       [117880,      0,     19],\n",
       "       [118243,      0,    256],\n",
       "       [118858,      0,     17],\n",
       "       [119208,      0,   4096],\n",
       "       [119765,      0,     13],\n",
       "       [120030,     13,   4109],\n",
       "       [120737,      0,     14],\n",
       "       [121010,      0,   4096],\n",
       "       [121679,      0,      5],\n",
       "       [121988,      0,    256],\n",
       "       [122591,      0,     17],\n",
       "       [122838,     17,   4096],\n",
       "       [123488,      0,      5],\n",
       "       [123699,      5,   4101],\n",
       "       [124465,      0,     13],\n",
       "       [124748,     13,    269],\n",
       "       [125458,      0,     19],\n",
       "       [125682,     19,   4115],\n",
       "       [126405,      0,     17],\n",
       "       [126642,     17,   4113],\n",
       "       [127372,      0,     18],\n",
       "       [127649,     18,   4096],\n",
       "       [128299,      0,      5],\n",
       "       [128521,      5,   4101],\n",
       "       [129201,      0,      6],\n",
       "       [129382,      6,   4102],\n",
       "       [130129,      0,      7],\n",
       "       [130418,      7,    256],\n",
       "       [131091,      0,     13],\n",
       "       [131325,     13,   4109],\n",
       "       [132078,      0,     14],\n",
       "       [132261,     14,   4110],\n",
       "       [133010,      0,     19],\n",
       "       [133255,     19,    275],\n",
       "       [133962,      0,     17],\n",
       "       [134234,      0,    256],\n",
       "       [134924,      0,      7],\n",
       "       [135123,      7,   4103],\n",
       "       [135842,      0,     13],\n",
       "       [136066,     13,    269],\n",
       "       [136774,      0,     14],\n",
       "       [136947,     14,    270],\n",
       "       [137711,      0,     15],\n",
       "       [138648,      0,      5],\n",
       "       [138904,      5,    261],\n",
       "       [139590,      0,     17],\n",
       "       [139796,     17,    273],\n",
       "       [140567,      0,      5],\n",
       "       [140762,      5,   4101],\n",
       "       [141525,      0,      5],\n",
       "       [141713,      5,    261],\n",
       "       [142452,      0,      6],\n",
       "       [142683,      6,    262],\n",
       "       [143459,      0,     19],\n",
       "       [144402,      0,     17],\n",
       "       [144639,     17,   4113],\n",
       "       [145303,      0,     18],\n",
       "       [146221,      0,     13],\n",
       "       [146513,      0,   4096],\n",
       "       [147173,      0,      7],\n",
       "       [148090,      0,     13],\n",
       "       [148283,     13,   4109],\n",
       "       [149012,      0,     14],\n",
       "       [149979,      0,     19],\n",
       "       [150946,      0,     17],\n",
       "       [151200,     17,   4113],\n",
       "       [151904,      0,     18],\n",
       "       [152130,     18,   4114],\n",
       "       [152816,      0,      7],\n",
       "       [153036,      7,   4103],\n",
       "       [153763,      0,      5],\n",
       "       [153980,      5,   4101],\n",
       "       [154680,      0,     17],\n",
       "       [155657,      0,     18],\n",
       "       [156599,      0,     17],\n",
       "       [157527,      0,     15],\n",
       "       [158519,      0,     17],\n",
       "       [158737,     17,    273],\n",
       "       [159466,      0,     18],\n",
       "       [159657,     18,    274],\n",
       "       [160418,      0,      5],\n",
       "       [160604,      5,   4101],\n",
       "       [161405,      0,      6],\n",
       "       [161582,      6,   4102],\n",
       "       [162383,      0,      5],\n",
       "       [162574,      5,   4101],\n",
       "       [163345,      0,      7],\n",
       "       [163559,      7,   4103],\n",
       "       [164302,      0,      5],\n",
       "       [165259,      0,      6],\n",
       "       [165496,      6,   4102],\n",
       "       [166212,      0,     17],\n",
       "       [166637,      0,   4096],\n",
       "       [167214,      0,     19],\n",
       "       [168166,      0,     17],\n",
       "       [169093,      0,     18],\n",
       "       [169361,     18,    274],\n",
       "       [170086,      0,     13],\n",
       "       [170285,     13,    269],\n",
       "       [171038,      0,     17],\n",
       "       [171274,     17,   4113],\n",
       "       [171338,      0,   4096],\n",
       "       [172005,      0,      7],\n",
       "       [172204,      7,   4103],\n",
       "       [172912,      0,     17],\n",
       "       [173157,     17,   4113],\n",
       "       [173869,      0,      5],\n",
       "       [174094,      5,   4101],\n",
       "       [174806,      0,      6],\n",
       "       [175023,      6,   4102],\n",
       "       [175779,      0,     19],\n",
       "       [176039,     19,    275],\n",
       "       [176776,      0,      5],\n",
       "       [177016,      5,   4101],\n",
       "       [177713,      0,     13],\n",
       "       [177979,     13,    269],\n",
       "       [178670,      0,     15],\n",
       "       [178878,     15,    271],\n",
       "       [179618,      0,     13],\n",
       "       [179844,     13,   4109],\n",
       "       [180515,      0,     19],\n",
       "       [180770,     19,    256],\n",
       "       [181437,      0,      5],\n",
       "       [181651,      5,    261],\n",
       "       [182389,      0,      6],\n",
       "       [182537,      6,    262],\n",
       "       [183321,      0,     19],\n",
       "       [183541,     19,   4115],\n",
       "       [184243,      0,     13],\n",
       "       [185215,      0,     14],\n",
       "       [186133,      0,     17],\n",
       "       [186394,      0,   4096],\n",
       "       [187070,      0,     18],\n",
       "       [187279,     18,   4114],\n",
       "       [188022,      0,      7],\n",
       "       [188223,      7,   4103],\n",
       "       [188989,      0,      5],\n",
       "       [189206,      5,    261],\n",
       "       [189931,      0,      6],\n",
       "       [190904,      0,     15],\n",
       "       [191195,      0,   4096],\n",
       "       [191856,      0,      5],\n",
       "       [192107,      5,   4096],\n",
       "       [192758,      0,     15],\n",
       "       [193058,      0,   4096],\n",
       "       [193730,      0,     13],\n",
       "       [193930,     13,    269],\n",
       "       [194692,      0,     14],\n",
       "       [194852,     14,    270],\n",
       "       [195604,      0,      5],\n",
       "       [195809,      5,   4101],\n",
       "       [196537,      0,      6],\n",
       "       [196709,      6,   4102],\n",
       "       [197514,      0,      5],\n",
       "       [198436,      0,      6],\n",
       "       [199393,      0,     17],\n",
       "       [200320,      0,     18],\n",
       "       [201268,      0,     17],\n",
       "       [201492,     17,   4113],\n",
       "       [202230,      0,     18],\n",
       "       [202433,     18,   4114],\n",
       "       [203212,      0,      7],\n",
       "       [203420,      7,   4103],\n",
       "       [204149,      0,     13],\n",
       "       [205076,      0,      5],\n",
       "       [206013,      0,     13],\n",
       "       [206960,      0,     13],\n",
       "       [207147,     13,   4109],\n",
       "       [207918,      0,     14],\n",
       "       [208083,     14,   4110],\n",
       "       [208820,      0,      5],\n",
       "       [209090,      0,   4096],\n",
       "       [209782,      0,     13],\n",
       "       [210031,     13,   4109],\n",
       "       [210719,      0,     15],\n",
       "       [211687,      0,     13],\n",
       "       [212649,      0,      7]], dtype=int64)"
      ]
     },
     "execution_count": 44,
     "metadata": {},
     "output_type": "execute_result"
    }
   ],
   "source": [
    "events"
   ]
  },
  {
   "cell_type": "code",
   "execution_count": 45,
   "metadata": {},
   "outputs": [
    {
     "data": {
      "text/plain": [
       "{5: 25}"
      ]
     },
     "execution_count": 45,
     "metadata": {},
     "output_type": "execute_result"
    }
   ],
   "source": [
    "mne.count_events(events, ids=[5])"
   ]
  },
  {
   "cell_type": "markdown",
   "metadata": {},
   "source": [
    "<div class=\"alert alert-success\">\n",
    "    <b>EJERCICIO</b>:\n",
    "     <ul>\n",
    "    <li>¿De qué tipo es la variable events?</li>\n",
    "    <li>¿Cuál es el significado de las tres columnas de events?</li>\n",
    "    <li>¿Cuántos eventos con código 5 hay?\n",
    "    </ul>\n",
    "</div>\n",
    "\n",
    " "
   ]
  },
  {
   "cell_type": "markdown",
   "metadata": {},
   "source": [
    "Hubo un retraso temporal de 34,5 ms en la presentación del estímulo. Por lo cual necesitamos corregir los eventos."
   ]
  },
  {
   "cell_type": "code",
   "execution_count": 46,
   "metadata": {},
   "outputs": [],
   "source": [
    "delay = int(round(0.0345 * raw.info['sfreq']))\n",
    "events[:, 0] = events[:, 0] + delay"
   ]
  },
  {
   "cell_type": "markdown",
   "metadata": {},
   "source": [
    "Visualicemos el paradigma:"
   ]
  },
  {
   "cell_type": "code",
   "execution_count": 47,
   "metadata": {},
   "outputs": [],
   "source": [
    "events = events[events[:, 2] < 20]  # toma sólo los eventos con código menor a 20"
   ]
  },
  {
   "cell_type": "code",
   "execution_count": 48,
   "metadata": {},
   "outputs": [],
   "source": [
    "fig = mne.viz.plot_events(events, raw.info['sfreq']);"
   ]
  },
  {
   "cell_type": "markdown",
   "metadata": {},
   "source": [
    "Para etiquetar los eventos y condiciones utilizamos un diccionario de Python con claves que contienen \"/\" para agrupar subcondiciones."
   ]
  },
  {
   "cell_type": "code",
   "execution_count": 49,
   "metadata": {},
   "outputs": [],
   "source": [
    "event_id = {\n",
    "    'face/famous/first': 5,\n",
    "    'face/famous/immediate': 6,\n",
    "    'face/famous/long': 7,\n",
    "    'face/unfamiliar/first': 13,\n",
    "    'face/unfamiliar/immediate': 14,\n",
    "    'face/unfamiliar/long': 15,\n",
    "    'scrambled/first': 17,\n",
    "    'scrambled/immediate': 18,\n",
    "    'scrambled/long': 19,\n",
    "}"
   ]
  },
  {
   "cell_type": "code",
   "execution_count": 50,
   "metadata": {},
   "outputs": [],
   "source": [
    "fig = mne.viz.plot_events(events, sfreq=raw.info['sfreq'],\n",
    "                          event_id=event_id);"
   ]
  },
  {
   "cell_type": "markdown",
   "metadata": {},
   "source": [
    "Ahora podemos volver a ver nuestros datos crudos con las etiquetas de eventos modificadas:"
   ]
  },
  {
   "cell_type": "code",
   "execution_count": 51,
   "metadata": {},
   "outputs": [],
   "source": [
    "raw.plot(event_id=event_id, events=events);"
   ]
  },
  {
   "cell_type": "markdown",
   "metadata": {},
   "source": [
    "## Creación de épocas y rechazo de artefactos"
   ]
  },
  {
   "cell_type": "markdown",
   "metadata": {},
   "source": [
    "Definimos los parámetros de las épocas:"
   ]
  },
  {
   "cell_type": "code",
   "execution_count": 52,
   "metadata": {},
   "outputs": [],
   "source": [
    "tmin = -0.5  # comienzo de cada época (500ms antes del estímulo)\n",
    "tmax = 2.0  # final de cada época (2000ms luego del estímulo)"
   ]
  },
  {
   "cell_type": "markdown",
   "metadata": {},
   "source": [
    "Definimos el periodo de la línea de base (baseline):"
   ]
  },
  {
   "cell_type": "code",
   "execution_count": 53,
   "metadata": {},
   "outputs": [],
   "source": [
    "baseline = (-0.2, 0)  # 200ms antes del comienzo del estímulo (t = 0)"
   ]
  },
  {
   "cell_type": "markdown",
   "metadata": {},
   "source": [
    "Ahora elegimos los canales - MEG, EEG y EOG "
   ]
  },
  {
   "cell_type": "code",
   "execution_count": 54,
   "metadata": {},
   "outputs": [],
   "source": [
    "picks = mne.pick_types(raw.info, meg=True, eeg=True, eog=True,\n",
    "                       stim=False, exclude='bads')"
   ]
  },
  {
   "cell_type": "markdown",
   "metadata": {},
   "source": [
    "La forma más fácil (¿y quizás también la más peligrosa?) de limpiar los datos es definir parámetros de rechazo de pico-a-pico (rango de amplitud) para gradiómetros, magnetómetros y EOG."
   ]
  },
  {
   "cell_type": "markdown",
   "metadata": {},
   "source": [
    "<div class=\"alert alert-info\">\n",
    "    <b>OBSERVACIÓN</b>:\n",
    "     <ul>\n",
    "    <li>El <a href=\"https://autoreject.github.io/\">proyecto de rechacho automático</a> tiene como finalidad resolver este problema. Vea este <a href=\"https://www.sciencedirect.com/science/article/pii/S1053811917305013\">paper</a> para más información.</li>\n",
    "    </ul>\n",
    "</div>"
   ]
  },
  {
   "cell_type": "code",
   "execution_count": 55,
   "metadata": {},
   "outputs": [],
   "source": [
    "reject = dict(grad=4000e-13, mag=4e-12, eog=150e-6)  # esto puede ser altamente dependiente de los datos"
   ]
  },
  {
   "cell_type": "markdown",
   "metadata": {},
   "source": [
    "Ahora podemos juntar todo esto y crear las épocas:"
   ]
  },
  {
   "cell_type": "code",
   "execution_count": 56,
   "metadata": {},
   "outputs": [],
   "source": [
    "epochs = mne.Epochs(raw, events, event_id, tmin, tmax, proj=True,\n",
    "                    picks=picks, baseline=baseline,\n",
    "                    reject=reject)"
   ]
  },
  {
   "cell_type": "code",
   "execution_count": 57,
   "metadata": {},
   "outputs": [
    {
     "name": "stdout",
     "output_type": "stream",
     "text": [
      "<Epochs |  146 events (good & bad), -0.5 – 2 s, baseline -0.2 – 0 s, ~6.9 MB, data not loaded,\n",
      " 'face/famous/first': 25\n",
      " 'face/famous/immediate': 10\n",
      " 'face/famous/long': 14\n",
      " 'face/unfamiliar/first': 25\n",
      " 'face/unfamiliar/immediate': 12\n",
      " 'face/unfamiliar/long': 10\n",
      " 'scrambled/first': 25\n",
      " 'scrambled/immediate': 14\n",
      " 'scrambled/long': 11>\n"
     ]
    }
   ],
   "source": [
    "print(epochs)  # veamos algunos detalles del objeto epochs"
   ]
  },
  {
   "cell_type": "markdown",
   "metadata": {},
   "source": [
    "Eliminemos explícitamente las épocas que identificamos como _malas_ a través de los umbrales que identificamos anteriormente:"
   ]
  },
  {
   "cell_type": "code",
   "execution_count": 58,
   "metadata": {},
   "outputs": [
    {
     "data": {
      "text/html": [
       "<table class=\"table table-hover table-striped table-sm table-responsive small\">\n",
       "    <tr>\n",
       "        <th>Number of events</th>\n",
       "        <td>79</td>\n",
       "    </tr>\n",
       "    <tr>\n",
       "        <th>Events</th>\n",
       "        \n",
       "        <td>face/famous/first: 13<br/>face/famous/immediate: 3<br/>face/famous/long: 6<br/>face/unfamiliar/first: 17<br/>face/unfamiliar/immediate: 4<br/>face/unfamiliar/long: 6<br/>scrambled/first: 15<br/>scrambled/immediate: 9<br/>scrambled/long: 6</td>\n",
       "        \n",
       "    </tr>\n",
       "    <tr>\n",
       "        <th>Time range</th>\n",
       "        <td>-0.500 – 2.000 s</td>\n",
       "    </tr>\n",
       "    <tr>\n",
       "        <th>Baseline</th>\n",
       "        <td>-0.200 – 0.000 s</td>\n",
       "    </tr>\n",
       "</table>"
      ],
      "text/plain": [
       "<Epochs |  79 events (all good), -0.5 – 2 s, baseline -0.2 – 0 s, ~6.9 MB, data not loaded,\n",
       " 'face/famous/first': 13\n",
       " 'face/famous/immediate': 3\n",
       " 'face/famous/long': 6\n",
       " 'face/unfamiliar/first': 17\n",
       " 'face/unfamiliar/immediate': 4\n",
       " 'face/unfamiliar/long': 6\n",
       " 'scrambled/first': 15\n",
       " 'scrambled/immediate': 9\n",
       " 'scrambled/long': 6>"
      ]
     },
     "execution_count": 58,
     "metadata": {},
     "output_type": "execute_result"
    }
   ],
   "source": [
    "epochs.drop_bad()  # rechaza las épocas malas mediante reject"
   ]
  },
  {
   "cell_type": "code",
   "execution_count": 59,
   "metadata": {},
   "outputs": [
    {
     "data": {
      "text/html": [
       "<table class=\"table table-hover table-striped table-sm table-responsive small\">\n",
       "    <tr>\n",
       "        <th>Number of events</th>\n",
       "        <td>79</td>\n",
       "    </tr>\n",
       "    <tr>\n",
       "        <th>Events</th>\n",
       "        \n",
       "        <td>face/famous/first: 13<br/>face/famous/immediate: 3<br/>face/famous/long: 6<br/>face/unfamiliar/first: 17<br/>face/unfamiliar/immediate: 4<br/>face/unfamiliar/long: 6<br/>scrambled/first: 15<br/>scrambled/immediate: 9<br/>scrambled/long: 6</td>\n",
       "        \n",
       "    </tr>\n",
       "    <tr>\n",
       "        <th>Time range</th>\n",
       "        <td>-0.500 – 2.000 s</td>\n",
       "    </tr>\n",
       "    <tr>\n",
       "        <th>Baseline</th>\n",
       "        <td>-0.200 – 0.000 s</td>\n",
       "    </tr>\n",
       "</table>"
      ],
      "text/plain": [
       "<Epochs |  79 events (all good), -0.5 – 2 s, baseline -0.2 – 0 s, ~178.0 MB, data loaded,\n",
       " 'face/famous/first': 13\n",
       " 'face/famous/immediate': 3\n",
       " 'face/famous/long': 6\n",
       " 'face/unfamiliar/first': 17\n",
       " 'face/unfamiliar/immediate': 4\n",
       " 'face/unfamiliar/long': 6\n",
       " 'scrambled/first': 15\n",
       " 'scrambled/immediate': 9\n",
       " 'scrambled/long': 6>"
      ]
     },
     "execution_count": 59,
     "metadata": {},
     "output_type": "execute_result"
    }
   ],
   "source": [
    "epochs.load_data()  # cargar datos en memoria"
   ]
  },
  {
   "cell_type": "markdown",
   "metadata": {},
   "source": [
    "## Una mirada más cercana al rechazo de artefactos\n"
   ]
  },
  {
   "cell_type": "markdown",
   "metadata": {},
   "source": [
    "Primero, veamos cuáles son los métodos del objeto epochs.\n",
    "Descomente la línea a continuación y escriba ``epochs.``, se desplegará la lista de métodos disponibles. "
   ]
  },
  {
   "cell_type": "code",
   "execution_count": 60,
   "metadata": {},
   "outputs": [],
   "source": [
    "#epochs."
   ]
  },
  {
   "cell_type": "markdown",
   "metadata": {},
   "source": [
    "Veamos cómo se eliminaron las épocas."
   ]
  },
  {
   "cell_type": "code",
   "execution_count": 61,
   "metadata": {},
   "outputs": [
    {
     "data": {
      "image/png": "[encoded data removed]",
      "text/plain": [
       "<Figure size 640x480 with 1 Axes>"
      ]
     },
     "metadata": {},
     "output_type": "display_data"
    },
    {
     "data": {
      "image/png": "[encoded data removed]",
      "text/plain": [
       "<Figure size 640x480 with 1 Axes>"
      ]
     },
     "metadata": {},
     "output_type": "display_data"
    },
    {
     "data": {
      "image/png": "[encoded data removed]",
      "text/plain": [
       "<Figure size 640x480 with 1 Axes>"
      ]
     },
     "metadata": {},
     "output_type": "display_data"
    }
   ],
   "source": [
    "%matplotlib inline\n",
    "epochs.plot_drop_log();"
   ]
  },
  {
   "cell_type": "markdown",
   "metadata": {},
   "source": [
    "### Puede ser que..., ¿perdimos la mitad de nuestras épocas debido al EOG?\n",
    "\n",
    "Probablemente podamos hacerlo mejor. Utilicemos la proyección espacial de señales (SSP) basada en PCA para eliminar los patrones espaciales relacionados con el EOG y el ECG.\n",
    "\n",
    "Este es el flujo de trabajo: primero detectaremos artefactos de EOG y visualizaremos su impacto. Luego calcularemos patrones espaciales para mitigar estos artefactos."
   ]
  },
  {
   "cell_type": "code",
   "execution_count": 64,
   "metadata": {},
   "outputs": [
    {
     "name": "stderr",
     "output_type": "stream",
     "text": [
      "C:\\Users\\admin\\AppData\\Local\\Temp\\ipykernel_13076\\3487798407.py:4: RuntimeWarning: (X, Y) fit (3.1, 32.2) more than 20 mm from head frame origin\n",
      "  eog_epochs.average().plot_joint();\n",
      "C:\\Users\\admin\\AppData\\Local\\Temp\\ipykernel_13076\\3487798407.py:4: RuntimeWarning: (X, Y) fit (3.1, 32.2) more than 20 mm from head frame origin\n",
      "  eog_epochs.average().plot_joint();\n",
      "C:\\Users\\admin\\AppData\\Local\\Temp\\ipykernel_13076\\3487798407.py:4: RuntimeWarning: (X, Y) fit (3.1, 32.2) more than 20 mm from head frame origin\n",
      "  eog_epochs.average().plot_joint();\n",
      "C:\\Users\\admin\\AppData\\Local\\Temp\\ipykernel_13076\\3487798407.py:4: RuntimeWarning: (X, Y) fit (3.1, 32.2) more than 20 mm from head frame origin\n",
      "  eog_epochs.average().plot_joint();\n",
      "C:\\Users\\admin\\AppData\\Local\\Temp\\ipykernel_13076\\3487798407.py:4: RuntimeWarning: (X, Y) fit (3.1, 32.2) more than 20 mm from head frame origin\n",
      "  eog_epochs.average().plot_joint();\n",
      "C:\\Users\\admin\\AppData\\Local\\Temp\\ipykernel_13076\\3487798407.py:4: RuntimeWarning: (X, Y) fit (3.1, 32.2) more than 20 mm from head frame origin\n",
      "  eog_epochs.average().plot_joint();\n",
      "C:\\Users\\admin\\AppData\\Local\\Temp\\ipykernel_13076\\3487798407.py:4: RuntimeWarning: (X, Y) fit (3.1, 32.2) more than 20 mm from head frame origin\n",
      "  eog_epochs.average().plot_joint();\n"
     ]
    }
   ],
   "source": [
    "# Hay una función para crear épocas EOG:\n",
    "%matplotlib qt\n",
    "eog_epochs = mne.preprocessing.create_eog_epochs(raw.copy().filter(1, None))\n",
    "eog_epochs.average().plot_joint();"
   ]
  },
  {
   "cell_type": "markdown",
   "metadata": {},
   "source": [
    "Veamos dónde aparecen esos segmentos EOG en nuestros datos sin procesar:"
   ]
  },
  {
   "cell_type": "code",
   "execution_count": 65,
   "metadata": {},
   "outputs": [],
   "source": [
    "%matplotlib qt\n",
    "raw.plot(events=eog_epochs.events);"
   ]
  },
  {
   "cell_type": "markdown",
   "metadata": {},
   "source": [
    "Calculemos las proyecciones de SSP basadas en el EOG:"
   ]
  },
  {
   "cell_type": "code",
   "execution_count": 66,
   "metadata": {},
   "outputs": [],
   "source": [
    "projs_eog, _ = mne.preprocessing.compute_proj_eog(\n",
    "    raw, n_mag=3, n_grad=3, n_eeg=3, average=True)"
   ]
  },
  {
   "cell_type": "code",
   "execution_count": 67,
   "metadata": {},
   "outputs": [
    {
     "data": {
      "text/plain": [
       "[<Projection | EOG-planar--0.200-0.200-PCA-01, active : False, n_channels : 204, exp. var : 95.55%>,\n",
       " <Projection | EOG-planar--0.200-0.200-PCA-02, active : False, n_channels : 204, exp. var : 1.89%>,\n",
       " <Projection | EOG-planar--0.200-0.200-PCA-03, active : False, n_channels : 204, exp. var : 0.69%>,\n",
       " <Projection | EOG-axial--0.200-0.200-PCA-01, active : False, n_channels : 102, exp. var : 97.35%>,\n",
       " <Projection | EOG-axial--0.200-0.200-PCA-02, active : False, n_channels : 102, exp. var : 1.30%>,\n",
       " <Projection | EOG-axial--0.200-0.200-PCA-03, active : False, n_channels : 102, exp. var : 0.44%>,\n",
       " <Projection | EOG-eeg--0.200-0.200-PCA-01, active : False, n_channels : 70, exp. var : 99.67%>,\n",
       " <Projection | EOG-eeg--0.200-0.200-PCA-02, active : False, n_channels : 70, exp. var : 0.20%>,\n",
       " <Projection | EOG-eeg--0.200-0.200-PCA-03, active : False, n_channels : 70, exp. var : 0.05%>]"
      ]
     },
     "execution_count": 67,
     "metadata": {},
     "output_type": "execute_result"
    }
   ],
   "source": [
    "projs_eog  # veamos cómo son"
   ]
  },
  {
   "cell_type": "code",
   "execution_count": 68,
   "metadata": {},
   "outputs": [
    {
     "name": "stderr",
     "output_type": "stream",
     "text": [
      "C:\\Users\\admin\\AppData\\Local\\Temp\\ipykernel_13076\\141627785.py:2: RuntimeWarning: (X, Y) fit (3.1, 32.2) more than 20 mm from head frame origin\n",
      "  mne.viz.plot_projs_topomap(projs_eog, info=epochs.info);\n",
      "C:\\Users\\admin\\AppData\\Local\\Temp\\ipykernel_13076\\141627785.py:2: RuntimeWarning: (X, Y) fit (3.1, 32.2) more than 20 mm from head frame origin\n",
      "  mne.viz.plot_projs_topomap(projs_eog, info=epochs.info);\n",
      "C:\\Users\\admin\\AppData\\Local\\Temp\\ipykernel_13076\\141627785.py:2: RuntimeWarning: (X, Y) fit (3.1, 32.2) more than 20 mm from head frame origin\n",
      "  mne.viz.plot_projs_topomap(projs_eog, info=epochs.info);\n",
      "C:\\Users\\admin\\AppData\\Local\\Temp\\ipykernel_13076\\141627785.py:2: RuntimeWarning: (X, Y) fit (3.1, 32.2) more than 20 mm from head frame origin\n",
      "  mne.viz.plot_projs_topomap(projs_eog, info=epochs.info);\n"
     ]
    },
    {
     "data": {
      "image/png": "[encoded data removed]",
      "text/plain": [
       "<MNEFigure size 450x610 with 9 Axes>"
      ]
     },
     "metadata": {},
     "output_type": "display_data"
    }
   ],
   "source": [
    "%matplotlib inline\n",
    "mne.viz.plot_projs_topomap(projs_eog, info=epochs.info);"
   ]
  },
  {
   "cell_type": "markdown",
   "metadata": {},
   "source": [
    "Ahora la pregunta importante es ¿cuántas componentes se deben conservar? Tip: algunas de ellas claramente no parecen patrones de artefactos.\n",
    "\n",
    "La buena noticia es que no tenemos que decidir __*ahora*__ mismo. Como podemos ver las proyecciones están almacenadas con los datos pero inactivas por el momento. \n",
    "\n",
    "Repitamos el procedimiento esta vez para los artefactos de ECG, como son los latidos cardiacos."
   ]
  },
  {
   "cell_type": "code",
   "execution_count": 69,
   "metadata": {},
   "outputs": [
    {
     "name": "stderr",
     "output_type": "stream",
     "text": [
      "C:\\Users\\admin\\AppData\\Local\\Temp\\ipykernel_13076\\472056752.py:4: RuntimeWarning: (X, Y) fit (3.1, 32.2) more than 20 mm from head frame origin\n",
      "  ecg_epochs.average().plot_joint()\n",
      "C:\\Users\\admin\\AppData\\Local\\Temp\\ipykernel_13076\\472056752.py:4: RuntimeWarning: (X, Y) fit (3.1, 32.2) more than 20 mm from head frame origin\n",
      "  ecg_epochs.average().plot_joint()\n",
      "C:\\Users\\admin\\AppData\\Local\\Temp\\ipykernel_13076\\472056752.py:4: RuntimeWarning: (X, Y) fit (3.1, 32.2) more than 20 mm from head frame origin\n",
      "  ecg_epochs.average().plot_joint()\n",
      "C:\\Users\\admin\\AppData\\Local\\Temp\\ipykernel_13076\\472056752.py:4: RuntimeWarning: (X, Y) fit (3.1, 32.2) more than 20 mm from head frame origin\n",
      "  ecg_epochs.average().plot_joint()\n",
      "C:\\Users\\admin\\AppData\\Local\\Temp\\ipykernel_13076\\472056752.py:4: RuntimeWarning: (X, Y) fit (3.1, 32.2) more than 20 mm from head frame origin\n",
      "  ecg_epochs.average().plot_joint()\n",
      "C:\\Users\\admin\\AppData\\Local\\Temp\\ipykernel_13076\\472056752.py:4: RuntimeWarning: (X, Y) fit (3.1, 32.2) more than 20 mm from head frame origin\n",
      "  ecg_epochs.average().plot_joint()\n",
      "C:\\Users\\admin\\AppData\\Local\\Temp\\ipykernel_13076\\472056752.py:4: RuntimeWarning: (X, Y) fit (3.1, 32.2) more than 20 mm from head frame origin\n",
      "  ecg_epochs.average().plot_joint()\n"
     ]
    },
    {
     "data": {
      "text/plain": [
       "[<Figure size 800x420 with 7 Axes>,\n",
       " <Figure size 800x420 with 7 Axes>,\n",
       " <Figure size 800x420 with 7 Axes>]"
      ]
     },
     "execution_count": 69,
     "metadata": {},
     "output_type": "execute_result"
    }
   ],
   "source": [
    "# los mismo para el caso de ECG\n",
    "%matplotlib qt\n",
    "ecg_epochs = mne.preprocessing.create_ecg_epochs(raw.copy().filter(1, None))\n",
    "ecg_epochs.average().plot_joint()"
   ]
  },
  {
   "cell_type": "markdown",
   "metadata": {},
   "source": [
    "Podemos ver que también nos enfrentamos a contaminación con la señal cardíaca... eso también lo proyectaremos."
   ]
  },
  {
   "cell_type": "code",
   "execution_count": 70,
   "metadata": {},
   "outputs": [
    {
     "name": "stderr",
     "output_type": "stream",
     "text": [
      "C:\\Users\\admin\\AppData\\Local\\Temp\\ipykernel_13076\\178739447.py:3: RuntimeWarning: (X, Y) fit (3.1, 32.2) more than 20 mm from head frame origin\n",
      "  mne.viz.plot_projs_topomap(projs_ecg, info=epochs.info);\n",
      "C:\\Users\\admin\\AppData\\Local\\Temp\\ipykernel_13076\\178739447.py:3: RuntimeWarning: (X, Y) fit (3.1, 32.2) more than 20 mm from head frame origin\n",
      "  mne.viz.plot_projs_topomap(projs_ecg, info=epochs.info);\n",
      "C:\\Users\\admin\\AppData\\Local\\Temp\\ipykernel_13076\\178739447.py:3: RuntimeWarning: (X, Y) fit (3.1, 32.2) more than 20 mm from head frame origin\n",
      "  mne.viz.plot_projs_topomap(projs_ecg, info=epochs.info);\n",
      "C:\\Users\\admin\\AppData\\Local\\Temp\\ipykernel_13076\\178739447.py:3: RuntimeWarning: (X, Y) fit (3.1, 32.2) more than 20 mm from head frame origin\n",
      "  mne.viz.plot_projs_topomap(projs_ecg, info=epochs.info);\n"
     ]
    }
   ],
   "source": [
    "projs_ecg, _ = mne.preprocessing.compute_proj_ecg(\n",
    "    raw, n_mag=3, n_grad=3, n_eeg=3, average=True)\n",
    "mne.viz.plot_projs_topomap(projs_ecg, info=epochs.info);"
   ]
  },
  {
   "cell_type": "markdown",
   "metadata": {},
   "source": [
    "## Aplicando las proyecciones y visualizando el efecto\n",
    "\n",
    "Ahora revirtamos nuestro rechazo de artefactos anterior y apliquemos las proyecciones en su lugar. "
   ]
  },
  {
   "cell_type": "code",
   "execution_count": 71,
   "metadata": {},
   "outputs": [
    {
     "data": {
      "text/html": [
       "<table class=\"table table-hover table-striped table-sm table-responsive small\">\n",
       "    <tr>\n",
       "        <th>Number of events</th>\n",
       "        <td>146</td>\n",
       "    </tr>\n",
       "    <tr>\n",
       "        <th>Events</th>\n",
       "        \n",
       "        <td>face/famous/first: 25<br/>face/famous/immediate: 10<br/>face/famous/long: 14<br/>face/unfamiliar/first: 25<br/>face/unfamiliar/immediate: 12<br/>face/unfamiliar/long: 10<br/>scrambled/first: 25<br/>scrambled/immediate: 14<br/>scrambled/long: 11</td>\n",
       "        \n",
       "    </tr>\n",
       "    <tr>\n",
       "        <th>Time range</th>\n",
       "        <td>-0.500 – 2.000 s</td>\n",
       "    </tr>\n",
       "    <tr>\n",
       "        <th>Baseline</th>\n",
       "        <td>-0.200 – 0.000 s</td>\n",
       "    </tr>\n",
       "</table>"
      ],
      "text/plain": [
       "<Epochs |  146 events (good & bad), -0.5 – 2 s, baseline -0.2 – 0 s, ~6.9 MB, data not loaded,\n",
       " 'face/famous/first': 25\n",
       " 'face/famous/immediate': 10\n",
       " 'face/famous/long': 14\n",
       " 'face/unfamiliar/first': 25\n",
       " 'face/unfamiliar/immediate': 12\n",
       " 'face/unfamiliar/long': 10\n",
       " 'scrambled/first': 25\n",
       " 'scrambled/immediate': 14\n",
       " 'scrambled/long': 11>"
      ]
     },
     "execution_count": 71,
     "metadata": {},
     "output_type": "execute_result"
    }
   ],
   "source": [
    "#Eliminamos el EOG de nuestro rechazo aquí:\n",
    "reject_no_eog = dict(mag=reject['mag'], grad=reject['grad']) \n",
    "\n",
    "epochs_clean = mne.Epochs(raw, events, event_id, tmin, tmax, proj=False,\n",
    "                          picks=picks, baseline=baseline,\n",
    "                          preload=False,\n",
    "                          reject=reject_no_eog)\n",
    "\n",
    "# y luego agregamos las proyecciones de EOG y ECG (¡pero aún no las aplicamos!)\n",
    "epochs_clean.add_proj(projs_eog + projs_ecg)\n"
   ]
  },
  {
   "cell_type": "markdown",
   "metadata": {},
   "source": [
    "Veamos un canal MEG frontal antes de aplicar las proyecciones:"
   ]
  },
  {
   "cell_type": "code",
   "execution_count": 72,
   "metadata": {},
   "outputs": [],
   "source": [
    "epochs_clean.plot_image(picks='MEG0123', sigma=1.);"
   ]
  },
  {
   "cell_type": "markdown",
   "metadata": {},
   "source": [
    "¡Ahora apliquemos las proyecciones a una copia y grafiquemos este canal nuevamente!"
   ]
  },
  {
   "cell_type": "code",
   "execution_count": 73,
   "metadata": {},
   "outputs": [],
   "source": [
    "epochs_proj = epochs_clean.copy().apply_proj()  # aplicamos las proyecciones a una copia\n",
    "\n",
    "epochs_proj.plot_image(picks='MEG0123', sigma=1.);"
   ]
  },
  {
   "cell_type": "markdown",
   "metadata": {},
   "source": [
    "Antes establecimos que probablemente no todas las proyecciones capturan parpadeos y artefactos cardíacos. ¡Así que repitamos este procedimiento pero solo proyectemos la _primera_ proyección por tipo de canal!"
   ]
  },
  {
   "cell_type": "code",
   "execution_count": 80,
   "metadata": {},
   "outputs": [],
   "source": [
    "%matplotlib qt\n",
    "epochs_clean.del_proj()\n",
    "epochs_clean.add_proj(projs_eog[::3] + projs_ecg[::3])  # añadimos solo algunas proyecciones SSP\n",
    "epochs_proj = epochs_clean.copy().apply_proj()  # aplicamos proyecciones a una copia\n",
    "\n",
    "epochs_proj.plot_image(picks='MEG0123', sigma=1.);"
   ]
  },
  {
   "cell_type": "code",
   "execution_count": 75,
   "metadata": {},
   "outputs": [
    {
     "data": {
      "text/html": [
       "<table class=\"table table-hover table-striped table-sm table-responsive small\">\n",
       "    <tr>\n",
       "        <th>Measurement date</th>\n",
       "        \n",
       "        <td>March 22, 1941  11:04:14 GMT</td>\n",
       "        \n",
       "    </tr>\n",
       "    <tr>\n",
       "        <th>Experimenter</th>\n",
       "        \n",
       "        <td>MEG</td>\n",
       "        \n",
       "    </tr>\n",
       "        <th>Participant</th>\n",
       "        \n",
       "            \n",
       "        \n",
       "    </tr>\n",
       "    <tr>\n",
       "        <th>Digitized points</th>\n",
       "        \n",
       "        <td>137 points</td>\n",
       "        \n",
       "    </tr>\n",
       "    <tr>\n",
       "        <th>Good channels</th>\n",
       "        <td>204 Gradiometers, 102 Magnetometers, 70 EEG, 2 EOG</td>\n",
       "    </tr>\n",
       "    <tr>\n",
       "        <th>Bad channels</th>\n",
       "        <td>None</td>\n",
       "    </tr>\n",
       "    <tr>\n",
       "        <th>EOG channels</th>\n",
       "        <td>EOG061, EOG062</td>\n",
       "    </tr>\n",
       "    <tr>\n",
       "        <th>ECG channels</th>\n",
       "        <td>Not available</td>\n",
       "    \n",
       "    <tr>\n",
       "        <th>Sampling frequency</th>\n",
       "        <td>300.00 Hz</td>\n",
       "    </tr>\n",
       "    \n",
       "    \n",
       "    <tr>\n",
       "        <th>Highpass</th>\n",
       "        <td>0.00 Hz</td>\n",
       "    </tr>\n",
       "    \n",
       "    \n",
       "    <tr>\n",
       "        <th>Lowpass</th>\n",
       "        <td>40.00 Hz</td>\n",
       "    </tr>\n",
       "    \n",
       "    \n",
       "    <tr>\n",
       "        <th>Projections</th>\n",
       "        <td>EOG-planar--0.200-0.200-PCA-01 : on<br/>EOG-axial--0.200-0.200-PCA-01 : on<br/>EOG-eeg--0.200-0.200-PCA-01 : on<br/>ECG-planar--0.200-0.400-PCA-01 : on<br/>ECG-axial--0.200-0.400-PCA-01 : on<br/>ECG-eeg--0.200-0.400-PCA-01 : on</td>\n",
       "    </tr>\n",
       "    \n",
       "</table>"
      ],
      "text/plain": [
       "<Info | 25 non-empty values\n",
       " acq_pars: ACQch001 110113 ACQch002 110112 ACQch003 110111 ACQch004 110122 ...\n",
       " bads: []\n",
       " ch_names: MEG0113, MEG0112, MEG0111, MEG0122, MEG0123, MEG0121, MEG0132, ...\n",
       " chs: 204 Gradiometers, 102 Magnetometers, 70 EEG, 2 EOG\n",
       " custom_ref_applied: True\n",
       " description: (meg) Vectorview system at Cambridge\n",
       " dev_head_t: MEG device -> head transform\n",
       " dig: 137 items (3 Cardinal, 5 HPI, 75 EEG, 54 Extra)\n",
       " events: 1 item (list)\n",
       " experimenter: MEG\n",
       " file_id: 4 items (dict)\n",
       " highpass: 0.0 Hz\n",
       " hpi_meas: 1 item (list)\n",
       " hpi_results: 1 item (list)\n",
       " hpi_subsystem: 2 items (dict)\n",
       " line_freq: 50.0\n",
       " lowpass: 40.0 Hz\n",
       " meas_date: 1941-03-22 11:04:14 UTC\n",
       " meas_id: 4 items (dict)\n",
       " nchan: 378\n",
       " proc_history: 1 item (list)\n",
       " proj_id: 1 item (ndarray)\n",
       " proj_name: dgw_studies\n",
       " projs: EOG-planar--0.200-0.200-PCA-01: on, EOG-axial-- ...\n",
       " sfreq: 300.0 Hz\n",
       " subject_info: 2 items (dict)\n",
       ">"
      ]
     },
     "execution_count": 75,
     "metadata": {},
     "output_type": "execute_result"
    }
   ],
   "source": [
    "epochs_proj.info"
   ]
  },
  {
   "cell_type": "markdown",
   "metadata": {},
   "source": [
    "De esta manera, ahora mantenemos todas las épocas (trials), pero eliminamos los parpadeos y los artefactos cardíacos. Ahora guardaremos los datos con las proyecciones SSP _no aplicadas_."
   ]
  },
  {
   "cell_type": "markdown",
   "metadata": {},
   "source": [
    "<div class=\"alert alert-info\">\n",
    "    <b>OBSERVACIÓN</b>:\n",
    "     <ul>\n",
    "    <li>MNE mantiene las proyecciones SSP dentro de la información y permite aplicarlas más tarde.</li>\n",
    "    </ul>\n",
    "</div>"
   ]
  },
  {
   "cell_type": "markdown",
   "metadata": {},
   "source": [
    "#### Algunas reflexiones sobre el rechazo de artefactos\n",
    "\n",
    "En este ejemplo abordamos los artefactos en este conjunto de datos calculando proyecciones SSP. Sin embargo, hay muchas otras formas de rechazar artefactos:\n",
    "\n",
    "- marcar artefactos manualmente (inspección visual)\n",
    "- utilizar umbrales (lo cual falló para estos datos)\n",
    "- utilizar ICA\n",
    "- utilizar un pipeline automatizado, por ejemplo el <a href=\"https://autoreject.github.io/\">autoreject project</a>\n",
    "- etc.\n",
    "\n",
    "La mejor recomendación es: familiarizate con tus datos (crudos)! "
   ]
  },
  {
   "cell_type": "markdown",
   "metadata": {},
   "source": [
    "## Guardando las épocas"
   ]
  },
  {
   "cell_type": "code",
   "execution_count": 81,
   "metadata": {},
   "outputs": [],
   "source": [
    "# sobreescribamoslas\n",
    "epochs = epochs_clean"
   ]
  },
  {
   "cell_type": "markdown",
   "metadata": {},
   "source": [
    "La forma estándar es guardar las épocas como un archivo `.fif` junto con todos los datos del encabezado. Las épocas se guardan con el sufijo `-epo.fif`."
   ]
  },
  {
   "cell_type": "code",
   "execution_count": 82,
   "metadata": {},
   "outputs": [
    {
     "data": {
      "text/plain": [
       "'C:\\\\Users\\\\admin/Documents/MNE projects/mne_pratical_meeg_2022-main/ds000117_pruned/derivatives/meg_derivatives/sub-01/ses-meg/meg/sub-01_ses-meg_task-facerecognition_run-01_proc-sss-epo.fif'"
      ]
     },
     "execution_count": 82,
     "metadata": {},
     "output_type": "execute_result"
    }
   ],
   "source": [
    "epochs_fname = raw_fname.replace('_meg.fif', '-epo.fif')  # creamos el nombre del archivo\n",
    "epochs_fname"
   ]
  },
  {
   "cell_type": "code",
   "execution_count": null,
   "metadata": {},
   "outputs": [],
   "source": [
    "epochs.save(epochs_fname, overwrite=True) "
   ]
  },
  {
   "cell_type": "markdown",
   "metadata": {},
   "source": [
    "## Extra: visualización de  épocas\n",
    "\n",
    "Vea [ésta página](https://mne.tools/stable/auto_tutorials/epochs/20_visualize_epochs.html) para las opciones de visualización de épocas."
   ]
  },
  {
   "cell_type": "code",
   "execution_count": 83,
   "metadata": {},
   "outputs": [],
   "source": [
    "# Ya hemos visto las épocas en un gráfico apilado:\n",
    "\n",
    "epochs_proj.plot_image(picks='EEG065', sigma=1.);"
   ]
  },
  {
   "cell_type": "markdown",
   "metadata": {},
   "source": [
    "También podemos ver las épocas en una ventana del navegador de datos:"
   ]
  },
  {
   "cell_type": "code",
   "execution_count": 84,
   "metadata": {},
   "outputs": [
    {
     "name": "stderr",
     "output_type": "stream",
     "text": [
      "C:\\Users\\admin\\AppData\\Local\\Temp\\ipykernel_13076\\2738299910.py:2: FutureWarning: The current default events=None is deprecated and will change to events=True in MNE 1.6. Set events=False to suppress this warning.\n",
      "  epochs.plot();\n"
     ]
    }
   ],
   "source": [
    "%matplotlib qt\n",
    "epochs.plot();"
   ]
  },
  {
   "cell_type": "code",
   "execution_count": 85,
   "metadata": {},
   "outputs": [
    {
     "data": {
      "text/html": [
       "<table class=\"table table-hover table-striped table-sm table-responsive small\">\n",
       "    <tr>\n",
       "        <th>Measurement date</th>\n",
       "        \n",
       "        <td>March 22, 1941  11:04:14 GMT</td>\n",
       "        \n",
       "    </tr>\n",
       "    <tr>\n",
       "        <th>Experimenter</th>\n",
       "        \n",
       "        <td>MEG</td>\n",
       "        \n",
       "    </tr>\n",
       "        <th>Participant</th>\n",
       "        \n",
       "            \n",
       "        \n",
       "    </tr>\n",
       "    <tr>\n",
       "        <th>Digitized points</th>\n",
       "        \n",
       "        <td>137 points</td>\n",
       "        \n",
       "    </tr>\n",
       "    <tr>\n",
       "        <th>Good channels</th>\n",
       "        <td>204 Gradiometers, 102 Magnetometers, 70 EEG, 2 EOG</td>\n",
       "    </tr>\n",
       "    <tr>\n",
       "        <th>Bad channels</th>\n",
       "        <td>None</td>\n",
       "    </tr>\n",
       "    <tr>\n",
       "        <th>EOG channels</th>\n",
       "        <td>EOG061, EOG062</td>\n",
       "    </tr>\n",
       "    <tr>\n",
       "        <th>ECG channels</th>\n",
       "        <td>Not available</td>\n",
       "    \n",
       "    <tr>\n",
       "        <th>Sampling frequency</th>\n",
       "        <td>300.00 Hz</td>\n",
       "    </tr>\n",
       "    \n",
       "    \n",
       "    <tr>\n",
       "        <th>Highpass</th>\n",
       "        <td>0.00 Hz</td>\n",
       "    </tr>\n",
       "    \n",
       "    \n",
       "    <tr>\n",
       "        <th>Lowpass</th>\n",
       "        <td>40.00 Hz</td>\n",
       "    </tr>\n",
       "    \n",
       "    \n",
       "    <tr>\n",
       "        <th>Projections</th>\n",
       "        <td>EOG-planar--0.200-0.200-PCA-01 : off<br/>EOG-axial--0.200-0.200-PCA-01 : off<br/>EOG-eeg--0.200-0.200-PCA-01 : off<br/>ECG-planar--0.200-0.400-PCA-01 : off<br/>ECG-axial--0.200-0.400-PCA-01 : off<br/>ECG-eeg--0.200-0.400-PCA-01 : off</td>\n",
       "    </tr>\n",
       "    \n",
       "</table>"
      ],
      "text/plain": [
       "<Info | 25 non-empty values\n",
       " acq_pars: ACQch001 110113 ACQch002 110112 ACQch003 110111 ACQch004 110122 ...\n",
       " bads: []\n",
       " ch_names: MEG0113, MEG0112, MEG0111, MEG0122, MEG0123, MEG0121, MEG0132, ...\n",
       " chs: 204 Gradiometers, 102 Magnetometers, 70 EEG, 2 EOG\n",
       " custom_ref_applied: True\n",
       " description: (meg) Vectorview system at Cambridge\n",
       " dev_head_t: MEG device -> head transform\n",
       " dig: 137 items (3 Cardinal, 5 HPI, 75 EEG, 54 Extra)\n",
       " events: 1 item (list)\n",
       " experimenter: MEG\n",
       " file_id: 4 items (dict)\n",
       " highpass: 0.0 Hz\n",
       " hpi_meas: 1 item (list)\n",
       " hpi_results: 1 item (list)\n",
       " hpi_subsystem: 2 items (dict)\n",
       " line_freq: 50.0\n",
       " lowpass: 40.0 Hz\n",
       " meas_date: 1941-03-22 11:04:14 UTC\n",
       " meas_id: 4 items (dict)\n",
       " nchan: 378\n",
       " proc_history: 1 item (list)\n",
       " proj_id: 1 item (ndarray)\n",
       " proj_name: dgw_studies\n",
       " projs: EOG-planar--0.200-0.200-PCA-01: off, EOG-axial-- ...\n",
       " sfreq: 300.0 Hz\n",
       " subject_info: 2 items (dict)\n",
       ">"
      ]
     },
     "execution_count": 85,
     "metadata": {},
     "output_type": "execute_result"
    }
   ],
   "source": [
    "epochs.info"
   ]
  },
  {
   "cell_type": "code",
   "execution_count": null,
   "metadata": {},
   "outputs": [],
   "source": []
  }
 ],
 "metadata": {
  "kernelspec": {
   "display_name": "Python 3 (ipykernel)",
   "language": "python",
   "name": "python3"
  },
  "language_info": {
   "codemirror_mode": {
    "name": "ipython",
    "version": 3
   },
   "file_extension": ".py",
   "mimetype": "text/x-python",
   "name": "python",
   "nbconvert_exporter": "python",
   "pygments_lexer": "ipython3",
   "version": "3.11.5"
  },
  "vscode": {
   "interpreter": {
    "hash": "96118219f514f0f7c28e51c58abb2aa3e9c527721ceabff83c3dd194a32d9fc1"
   }
  },
  "widgets": {
   "state": {},
   "version": "1.1.2"
  }
 },
 "nbformat": 4,
 "nbformat_minor": 1
}
